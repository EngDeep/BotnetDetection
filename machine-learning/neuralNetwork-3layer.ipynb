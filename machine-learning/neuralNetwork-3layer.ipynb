{
 "cells": [
  {
   "cell_type": "code",
   "execution_count": 2,
   "metadata": {
    "collapsed": false
   },
   "outputs": [
    {
     "name": "stdout",
     "output_type": "stream",
     "text": [
      "(52580, 35)\n",
      "(1000, 34) (1000, 2)\n",
      "(1000, 34) (1000, 2)\n",
      "(50580, 34) (50580, 2)\n"
     ]
    }
   ],
   "source": [
    "import numpy as np\n",
    "import scipy\n",
    "from sklearn.preprocessing import MinMaxScaler\n",
    "\n",
    "dataset = np.loadtxt(\"/Users/Keshavamurthy/allfeatures1.txt\", delimiter=\" \");\n",
    "print(dataset.shape)\n",
    "\n",
    "np.random.shuffle(dataset)\n",
    "\n",
    "X = dataset[:, :34]\n",
    "Y = dataset[:, 34]\n",
    "botnetDataset = dataset[dataset[:,34]==1, :]\n",
    "normalDataset = dataset[dataset[:,34]==0, :]\n",
    "\n",
    "botnetX = botnetDataset[:,:34]\n",
    "botnetY = botnetDataset[:, 34]\n",
    "\n",
    "normalX = normalDataset[:,:34]\n",
    "normalY = normalDataset[:, 34]\n",
    "\n",
    "scaler = MinMaxScaler(feature_range=(0, 1))\n",
    "rescaledBotnetX = scaler.fit_transform(botnetX)\n",
    "rescaledNormalX = scaler.fit_transform(normalX)\n",
    "rescaledX = scaler.fit_transform(X)\n",
    "\n",
    "valid_start_index = 0\n",
    "valid_end_index = 500\n",
    "test_start_index = 500\n",
    "test_end_index = 1000\n",
    "num_labels = 2\n",
    "\n",
    "validation_dataset = np.concatenate((rescaledBotnetX[valid_start_index:valid_end_index,:], \n",
    "                                     rescaledNormalX[valid_start_index:valid_end_index,:]))\n",
    "valid_labels = np.concatenate((botnetY[valid_start_index:valid_end_index], \n",
    "                                   normalY[valid_start_index:valid_end_index]))\n",
    "valid_labels = (np.arange(num_labels) == valid_labels[:,None]).astype(np.float64)\n",
    "\n",
    "test_dataset = np.concatenate((rescaledBotnetX[test_start_index:test_end_index,:], \n",
    "                               rescaledNormalX[test_start_index:test_end_index,:]))\n",
    "test_labels = np.concatenate((botnetY[test_start_index:test_end_index], \n",
    "                             normalY[test_start_index:test_end_index]))\n",
    "test_labels = (np.arange(num_labels) == test_labels[:,None]).astype(np.float64)\n",
    "\n",
    "train_dataset = np.concatenate((rescaledBotnetX[test_end_index:,:], \n",
    "                               rescaledNormalX[test_end_index:,:]))\n",
    "train_labels = np.concatenate((botnetY[test_end_index:], \n",
    "                             normalY[test_end_index:]))\n",
    "train_labels = (np.arange(num_labels) == train_labels[:,None]).astype(np.float64)\n",
    "\n",
    "print(validation_dataset.shape, valid_labels.shape)\n",
    "print(test_dataset.shape, test_labels.shape)\n",
    "print(train_dataset.shape, train_labels.shape)"
   ]
  },
  {
   "cell_type": "code",
   "execution_count": 69,
   "metadata": {
    "collapsed": false
   },
   "outputs": [],
   "source": [
    "import tensorflow as tf\n",
    "\n",
    "num_features = 34\n",
    "valid_size = 1000\n",
    "test_size = 1000\n",
    "batch_size = 128\n",
    "num_hidden_nodes1 = 2048\n",
    "num_hidden_nodes2 = 1024\n",
    "num_hidden_nodes3 = 512\n",
    "num_labels = 2\n",
    "\n",
    "graph = tf.Graph()\n",
    "with graph.as_default():\n",
    "    tf_train_dataset = tf.placeholder(tf.float64, shape=(batch_size, num_features))\n",
    "    tf_train_labels = tf.placeholder(tf.float64, shape=(batch_size, num_labels))\n",
    "    tf_valid_dataset = tf.constant(validation_dataset)\n",
    "    tf_test_dataset = tf.constant(test_dataset)\n",
    "    beta_regul = tf.placeholder(tf.float64)\n",
    "    global_step = tf.Variable(0)\n",
    "    \n",
    "    weights1 = tf.Variable(\n",
    "    tf.truncated_normal(\n",
    "        [num_features, num_hidden_nodes1],\n",
    "        stddev=np.sqrt(2.0 / (num_features)), dtype=tf.float64), dtype=tf.float64\n",
    "    )\n",
    "    biases1 = tf.Variable(tf.zeros([num_hidden_nodes1], dtype=tf.float64), dtype=tf.float64)\n",
    "    \n",
    "    weights2 = tf.Variable(\n",
    "    tf.truncated_normal([num_hidden_nodes1, num_hidden_nodes2], \n",
    "                        stddev=np.sqrt(2.0 / num_hidden_nodes1), \n",
    "                        dtype=tf.float64),\n",
    "    dtype=tf.float64)\n",
    "    biases2 = tf.Variable(tf.zeros([num_hidden_nodes2], dtype=tf.float64), dtype=tf.float64)\n",
    "    \n",
    "    weights3 = tf.Variable(\n",
    "    tf.truncated_normal([num_hidden_nodes2, num_hidden_nodes3], \n",
    "                        stddev=np.sqrt(2.0 / num_hidden_nodes2), \n",
    "                        dtype=tf.float64),\n",
    "    dtype=tf.float64)\n",
    "    biases3 = tf.Variable(tf.zeros([num_hidden_nodes3], dtype=tf.float64), dtype=tf.float64)\n",
    "    \n",
    "    weights4 = tf.Variable(\n",
    "    tf.truncated_normal([num_hidden_nodes3, num_labels], \n",
    "                        stddev=np.sqrt(2.0 / num_hidden_nodes3),\n",
    "                        dtype=tf.float64),\n",
    "    dtype=tf.float64)\n",
    "    biases4 = tf.Variable(tf.zeros([num_labels], dtype=tf.float64), dtype=tf.float64)\n",
    "    \n",
    "    # Training computation.\n",
    "    lay1_train = tf.nn.relu(tf.matmul(tf_train_dataset, weights1) + biases1)\n",
    "    drop1 = tf.nn.dropout(lay1_train, 0.5)\n",
    "    lay2_train = tf.nn.relu(tf.matmul(drop1, weights2) + biases2)\n",
    "    drop2 = tf.nn.dropout(lay2_train, 0.5)\n",
    "    lay3_train = tf.nn.relu(tf.matmul(drop2, weights3) + biases3)\n",
    "    drop3 = tf.nn.dropout(lay3_train, 0.5)\n",
    "    logits = tf.matmul(drop3, weights4) + biases4\n",
    "    loss = tf.reduce_mean(\n",
    "    tf.nn.softmax_cross_entropy_with_logits(logits, tf_train_labels)) + \\\n",
    "      beta_regul * (tf.nn.l2_loss(weights1) + tf.nn.l2_loss(weights2) + tf.nn.l2_loss(weights3) + \n",
    "                    tf.nn.l2_loss(weights4))\n",
    "        \n",
    "    # Optimizer.\n",
    "    learning_rate = tf.train.exponential_decay(0.5, global_step, 1000, 0.65, staircase=True)\n",
    "    optimizer = tf.train.GradientDescentOptimizer(learning_rate).minimize(loss, global_step=global_step)\n",
    "  \n",
    "    # Predictions for the training, validation, and test data.\n",
    "    train_prediction = tf.nn.softmax(logits)\n",
    "    lay1_valid = tf.nn.relu(tf.matmul(tf_valid_dataset, weights1) + biases1)\n",
    "    lay2_valid = tf.nn.relu(tf.matmul(lay1_valid, weights2) + biases2)\n",
    "    lay3_valid = tf.nn.relu(tf.matmul(lay2_valid, weights3) + biases3)\n",
    "    valid_prediction = tf.nn.softmax(tf.matmul(lay3_valid, weights4) + biases4)\n",
    "    \n",
    "    lay1_test = tf.nn.relu(tf.matmul(tf_test_dataset, weights1) + biases1)\n",
    "    lay2_test = tf.nn.relu(tf.matmul(lay1_test, weights2) + biases2)\n",
    "    lay3_test = tf.nn.relu(tf.matmul(lay2_test, weights3) + biases3)\n",
    "    test_prediction = tf.nn.softmax(tf.matmul(lay3_test, weights4) + biases4)\n",
    "\n",
    "        "
   ]
  },
  {
   "cell_type": "code",
   "execution_count": 70,
   "metadata": {
    "collapsed": true
   },
   "outputs": [],
   "source": [
    "def accuracy(predictions, labels):\n",
    "    return (100.0 * np.sum(np.argmax(predictions, 1) == np.argmax(labels, 1)) / predictions.shape[0])\n"
   ]
  },
  {
   "cell_type": "code",
   "execution_count": 71,
   "metadata": {
    "collapsed": false
   },
   "outputs": [
    {
     "name": "stderr",
     "output_type": "stream",
     "text": [
      "/usr/local/lib/python3.5/site-packages/ipykernel/__main__.py:11: VisibleDeprecationWarning: using a non-integer number instead of an integer will result in an error in the future\n",
      "/usr/local/lib/python3.5/site-packages/ipykernel/__main__.py:12: VisibleDeprecationWarning: using a non-integer number instead of an integer will result in an error in the future\n",
      "/usr/local/lib/python3.5/site-packages/ipykernel/__main__.py:13: VisibleDeprecationWarning: using a non-integer number instead of an integer will result in an error in the future\n",
      "/usr/local/lib/python3.5/site-packages/ipykernel/__main__.py:14: VisibleDeprecationWarning: using a non-integer number instead of an integer will result in an error in the future\n"
     ]
    },
    {
     "name": "stdout",
     "output_type": "stream",
     "text": [
      "Minibatch loss at step 0: 3.486966\n",
      "Minibatch accuracy: 49.2%\n",
      "Validation accuracy: 49.9%\n",
      "Minibatch loss at step 50: 3.096886\n",
      "Minibatch accuracy: 84.4%\n",
      "Validation accuracy: 55.6%\n",
      "Minibatch loss at step 100: 3.788197\n",
      "Minibatch accuracy: 52.3%\n",
      "Validation accuracy: 53.7%\n",
      "Minibatch loss at step 150: 3.050158\n",
      "Minibatch accuracy: 60.9%\n",
      "Validation accuracy: 55.5%\n",
      "Minibatch loss at step 200: 3.374755\n",
      "Minibatch accuracy: 52.3%\n",
      "Validation accuracy: 67.9%\n",
      "Minibatch loss at step 250: 2.795979\n",
      "Minibatch accuracy: 71.9%\n",
      "Validation accuracy: 85.8%\n",
      "Minibatch loss at step 300: 2.706405\n",
      "Minibatch accuracy: 66.4%\n",
      "Validation accuracy: 84.1%\n",
      "Minibatch loss at step 350: 2.613871\n",
      "Minibatch accuracy: 66.4%\n",
      "Validation accuracy: 85.7%\n",
      "Minibatch loss at step 400: 2.265056\n",
      "Minibatch accuracy: 85.2%\n",
      "Validation accuracy: 85.7%\n",
      "Minibatch loss at step 450: 2.546553\n",
      "Minibatch accuracy: 56.2%\n",
      "Validation accuracy: 86.3%\n",
      "Test accuracy: 84.9%\n"
     ]
    }
   ],
   "source": [
    "num_steps = 500\n",
    "offset = int(test_end_index)\n",
    "trainNormalX = rescaledNormalX[test_end_index:, :]\n",
    "class_batch_size = int(batch_size)/2\n",
    "\n",
    "with tf.Session(graph=graph) as session:\n",
    "    \n",
    "    tf.global_variables_initializer().run()\n",
    "    for step in range(num_steps):\n",
    "        np.random.shuffle(trainNormalX)\n",
    "        train_batch_data = np.concatenate((rescaledBotnetX[offset:(offset+class_batch_size),:], \n",
    "                               trainNormalX[:class_batch_size,:]))\n",
    "        train_batch_labels = np.concatenate((botnetY[:class_batch_size], \n",
    "                             normalY[:class_batch_size]))\n",
    "        train_batch_labels = (np.arange(num_labels) == train_batch_labels[:,None]).astype(np.float64)\n",
    "        offset = offset + class_batch_size\n",
    "        \n",
    "        feed_dict = {tf_train_dataset : train_batch_data, \n",
    "                     tf_train_labels : train_batch_labels, \n",
    "                     beta_regul : 1e-3 \n",
    "                    }\n",
    "        _, l, predictions = session.run(\n",
    "          [optimizer, loss, train_prediction], feed_dict=feed_dict)\n",
    "        if (step % 50 == 0):\n",
    "            print(\"Minibatch loss at step %d: %f\" % (step, l))\n",
    "            print(\"Minibatch accuracy: %.1f%%\" % accuracy(predictions, train_batch_labels))\n",
    "            print(\"Validation accuracy: %.1f%%\" % accuracy(\n",
    "            valid_prediction.eval(), valid_labels))\n",
    "    print(\"Test accuracy: %.1f%%\" % accuracy(test_prediction.eval(), test_labels))"
   ]
  },
  {
   "cell_type": "code",
   "execution_count": 65,
   "metadata": {
    "collapsed": false
   },
   "outputs": [
    {
     "name": "stderr",
     "output_type": "stream",
     "text": [
      "/usr/local/lib/python3.5/site-packages/ipykernel/__main__.py:13: VisibleDeprecationWarning: using a non-integer number instead of an integer will result in an error in the future\n",
      "/usr/local/lib/python3.5/site-packages/ipykernel/__main__.py:14: VisibleDeprecationWarning: using a non-integer number instead of an integer will result in an error in the future\n",
      "/usr/local/lib/python3.5/site-packages/ipykernel/__main__.py:15: VisibleDeprecationWarning: using a non-integer number instead of an integer will result in an error in the future\n",
      "/usr/local/lib/python3.5/site-packages/ipykernel/__main__.py:16: VisibleDeprecationWarning: using a non-integer number instead of an integer will result in an error in the future\n"
     ]
    },
    {
     "name": "stdout",
     "output_type": "stream",
     "text": [
      "[87.5, 89.200000000000003, 89.599999999999994, 89.400000000000006, 87.700000000000003, 88.5, 87.599999999999994, 86.799999999999997, 89.700000000000003, 88.5, 56.799999999999997, 89.299999999999997, 51.200000000000003, 87.599999999999994, 89.0, 88.200000000000003, 88.0, 87.5, 57.899999999999999, 59.700000000000003]\n"
     ]
    }
   ],
   "source": [
    "regul_val = [pow(10, i) for i in np.arange(-4, -2, 0.1)]\n",
    "accuracy_val = []\n",
    "\n",
    "for regul in regul_val:\n",
    "    offset = int(test_end_index)\n",
    "    trainNormalX = rescaledNormalX[test_end_index:, :]\n",
    "    class_batch_size = int(batch_size)/2\n",
    "    \n",
    "    with tf.Session(graph=graph) as session:\n",
    "        tf.global_variables_initializer().run()\n",
    "        for step in range(num_steps):\n",
    "            np.random.shuffle(trainNormalX)\n",
    "            train_batch_data = np.concatenate((rescaledBotnetX[offset:(offset+class_batch_size),:], \n",
    "                                   trainNormalX[:class_batch_size,:]))\n",
    "            train_batch_labels = np.concatenate((botnetY[:class_batch_size], \n",
    "                                 normalY[:class_batch_size]))\n",
    "            train_batch_labels = (np.arange(num_labels) == train_batch_labels[:,None]).astype(np.float64)\n",
    "            offset = offset + class_batch_size\n",
    "            # Prepare a dictionary telling the session where to feed the minibatch.\n",
    "            # The key of the dictionary is the placeholder node of the graph to be fed,\n",
    "            # and the value is the numpy array to feed to it.\n",
    "            feed_dict = {tf_train_dataset : train_batch_data, \n",
    "                         tf_train_labels : train_batch_labels,\n",
    "                         beta_regul : regul\n",
    "                        }\n",
    "            _, l, predictions = session.run(\n",
    "              [optimizer, loss, train_prediction], feed_dict=feed_dict)\n",
    "        accuracy_val.append(accuracy(test_prediction.eval(), test_labels))\n",
    "        \n",
    "print(accuracy_val)"
   ]
  },
  {
   "cell_type": "code",
   "execution_count": 66,
   "metadata": {
    "collapsed": false
   },
   "outputs": [
    {
     "data": {
      "image/png": "[encoded data removed]",
      "text/plain": [
       "<matplotlib.figure.Figure at 0x10743de48>"
      ]
     },
     "metadata": {},
     "output_type": "display_data"
    }
   ],
   "source": [
    "import matplotlib.pyplot as plt\n",
    "%matplotlib inline\n",
    "\n",
    "plt.semilogx(regul_val, accuracy_val)\n",
    "plt.grid(True)\n",
    "plt.title('Test accuracy by regularization (2-layer net)')\n",
    "plt.show()"
   ]
  },
  {
   "cell_type": "code",
   "execution_count": null,
   "metadata": {
    "collapsed": true
   },
   "outputs": [],
   "source": []
  }
 ],
 "metadata": {
  "kernelspec": {
   "display_name": "Python 3",
   "language": "python",
   "name": "python3"
  },
  "language_info": {
   "codemirror_mode": {
    "name": "ipython",
    "version": 3
   },
   "file_extension": ".py",
   "mimetype": "text/x-python",
   "name": "python",
   "nbconvert_exporter": "python",
   "pygments_lexer": "ipython3",
   "version": "3.5.2"
  }
 },
 "nbformat": 4,
 "nbformat_minor": 1
}
