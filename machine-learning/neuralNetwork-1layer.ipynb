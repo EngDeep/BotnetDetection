{
 "cells": [
  {
   "cell_type": "code",
   "execution_count": 98,
   "metadata": {
    "collapsed": false
   },
   "outputs": [
    {
     "name": "stdout",
     "output_type": "stream",
     "text": [
      "(52580, 35)\n",
      "(2000, 34) (2000, 2)\n",
      "(2000, 34) (2000, 2)\n",
      "(48580, 34) (48580, 2)\n"
     ]
    }
   ],
   "source": [
    "import numpy as np\n",
    "import scipy\n",
    "from sklearn.preprocessing import MinMaxScaler\n",
    "import warnings\n",
    "warnings.filterwarnings(\"ignore\",category=np.VisibleDeprecationWarning)\n",
    "\n",
    "dataset = np.loadtxt(\"/Users/Keshavamurthy/allfeatures1.txt\", delimiter=\" \");\n",
    "print(dataset.shape)\n",
    "\n",
    "np.random.shuffle(dataset)\n",
    "\n",
    "X = dataset[:, :34]\n",
    "Y = dataset[:, 34]\n",
    "botnetDataset = dataset[dataset[:,34]==1, :]\n",
    "normalDataset = dataset[dataset[:,34]==0, :]\n",
    "\n",
    "botnetX = botnetDataset[:,:34]\n",
    "botnetY = botnetDataset[:, 34]\n",
    "\n",
    "normalX = normalDataset[:,:34]\n",
    "normalY = normalDataset[:, 34]\n",
    "\n",
    "scaler = MinMaxScaler(feature_range=(0, 1))\n",
    "rescaledBotnetX = scaler.fit_transform(botnetX)\n",
    "rescaledNormalX = scaler.fit_transform(normalX)\n",
    "rescaledX = scaler.fit_transform(X)\n",
    "\n",
    "valid_start_index = 0\n",
    "valid_end_index = 1000\n",
    "test_start_index = 1000\n",
    "test_end_index = 2000\n",
    "num_labels = 2\n",
    "\n",
    "validation_dataset = np.concatenate((rescaledBotnetX[valid_start_index:valid_end_index,:], \n",
    "                                     rescaledNormalX[valid_start_index:valid_end_index,:]))\n",
    "valid_labels = np.concatenate((botnetY[valid_start_index:valid_end_index], \n",
    "                                   normalY[valid_start_index:valid_end_index]))\n",
    "valid_labels = (np.arange(num_labels) == valid_labels[:,None]).astype(np.float64)\n",
    "\n",
    "test_dataset = np.concatenate((rescaledBotnetX[test_start_index:test_end_index,:], \n",
    "                               rescaledNormalX[test_start_index:test_end_index,:]))\n",
    "test_labels = np.concatenate((botnetY[test_start_index:test_end_index], \n",
    "                             normalY[test_start_index:test_end_index]))\n",
    "test_labels = (np.arange(num_labels) == test_labels[:,None]).astype(np.float64)\n",
    "\n",
    "train_dataset = np.concatenate((rescaledBotnetX[test_end_index:,:], \n",
    "                               rescaledNormalX[test_end_index:,:]))\n",
    "train_labels = np.concatenate((botnetY[test_end_index:], \n",
    "                             normalY[test_end_index:]))\n",
    "train_labels = (np.arange(num_labels) == train_labels[:,None]).astype(np.float64)\n",
    "\n",
    "print(validation_dataset.shape, valid_labels.shape)\n",
    "print(test_dataset.shape, test_labels.shape)\n",
    "print(train_dataset.shape, train_labels.shape)"
   ]
  },
  {
   "cell_type": "code",
   "execution_count": 110,
   "metadata": {
    "collapsed": false
   },
   "outputs": [],
   "source": [
    "import tensorflow as tf\n",
    "\n",
    "num_features = 34\n",
    "batch_size = 1024\n",
    "num_hidden_nodes = 4096\n",
    "\n",
    "graph = tf.Graph()\n",
    "with graph.as_default():\n",
    "    tf_train_dataset = tf.placeholder(tf.float64, shape=(batch_size, num_features))\n",
    "    tf_train_labels = tf.placeholder(tf.float64, shape=(batch_size, num_labels))\n",
    "    tf_valid_dataset = tf.constant(validation_dataset)\n",
    "    tf_test_dataset = tf.constant(test_dataset)\n",
    "    beta_regul = tf.placeholder(tf.float64)\n",
    "    \n",
    "    # Variables.\n",
    "    weights1 = tf.Variable(tf.truncated_normal([num_features, num_hidden_nodes], dtype=tf.float64), dtype=tf.float64)\n",
    "    biases1 = tf.Variable(tf.zeros([num_hidden_nodes], dtype=tf.float64), dtype=tf.float64)\n",
    "    weights2 = tf.Variable(tf.truncated_normal([num_hidden_nodes, num_labels], dtype=tf.float64), dtype=tf.float64)\n",
    "    biases2 = tf.Variable(tf.zeros([num_labels], dtype=tf.float64), dtype=tf.float64)\n",
    "    \n",
    "    # Training computation.\n",
    "    lay1_train = tf.nn.relu(tf.matmul(tf_train_dataset, weights1) + biases1)\n",
    "    drop1 = tf.nn.dropout(lay1_train, 0.5)\n",
    "    logits = tf.matmul(drop1, weights2) + biases2\n",
    "    loss = tf.reduce_mean(tf.nn.softmax_cross_entropy_with_logits(logits, tf_train_labels)) + \\\n",
    "      beta_regul * (tf.nn.l2_loss(weights1) + tf.nn.l2_loss(weights2))\n",
    "  \n",
    "    # Optimizer.\n",
    "    optimizer = tf.train.GradientDescentOptimizer(0.5).minimize(loss)\n",
    "  \n",
    "    # Predictions for the training, validation, and test data.\n",
    "    train_prediction = tf.nn.softmax(logits)\n",
    "    lay1_valid = tf.nn.relu(tf.matmul(tf_valid_dataset, weights1) + biases1)\n",
    "    valid_prediction = tf.nn.softmax(tf.matmul(lay1_valid, weights2) + biases2)\n",
    "    lay1_test = tf.nn.relu(tf.matmul(tf_test_dataset, weights1) + biases1)\n",
    "    test_prediction = tf.nn.softmax(tf.matmul(lay1_test, weights2) + biases2)\n",
    "  \n"
   ]
  },
  {
   "cell_type": "code",
   "execution_count": 111,
   "metadata": {
    "collapsed": false
   },
   "outputs": [],
   "source": [
    "def accuracy(predictions, labels):\n",
    "    return (100.0 * np.sum(np.argmax(predictions, 1) == np.argmax(labels, 1)) / predictions.shape[0])"
   ]
  },
  {
   "cell_type": "code",
   "execution_count": 112,
   "metadata": {
    "collapsed": true
   },
   "outputs": [],
   "source": [
    "def GetNextBotnetSet(rescaledX, Y):\n",
    "    step = 4000\n",
    "    prevStep = 0\n",
    "    while step < rescaledX.shape[0]:\n",
    "        yield rescaledX[prevStep:step, :], Y[prevStep:step]\n",
    "        prevStep = step\n",
    "        step = step + 4000\n",
    "        \n",
    "    return rescaledX[prevStep:, :], Y[prevStep:]"
   ]
  },
  {
   "cell_type": "code",
   "execution_count": 113,
   "metadata": {
    "collapsed": false
   },
   "outputs": [
    {
     "name": "stdout",
     "output_type": "stream",
     "text": [
      "Minibatch loss at step 0: 21.819545\n",
      "Minibatch accuracy: 52.1%\n",
      "Validation accuracy: 82.4%\n",
      "Minibatch loss at step 50: 17.531123\n",
      "Minibatch accuracy: 88.1%\n",
      "Validation accuracy: 90.2%\n",
      "Test accuracy: 90.7%\n"
     ]
    }
   ],
   "source": [
    "num_steps = 60\n",
    "offset = int(test_end_index)\n",
    "trainNormalX = rescaledNormalX[test_end_index:, :]\n",
    "class_batch_size = int(batch_size)/2\n",
    "\n",
    "with tf.Session(graph=graph) as session:\n",
    "    \n",
    "    tf.global_variables_initializer().run()\n",
    "    for step in range(num_steps):\n",
    "        np.random.shuffle(trainNormalX)\n",
    "        train_batch_data = np.concatenate((rescaledBotnetX[offset:(offset+class_batch_size),:], \n",
    "                               trainNormalX[:class_batch_size,:]))\n",
    "        train_batch_labels = np.concatenate((botnetY[:class_batch_size], \n",
    "                             normalY[:class_batch_size]))\n",
    "        train_batch_labels = (np.arange(num_labels) == train_batch_labels[:,None]).astype(np.float64)\n",
    "        offset = offset + class_batch_size\n",
    "        \n",
    "        feed_dict = {tf_train_dataset : train_batch_data, \n",
    "                     tf_train_labels : train_batch_labels, \n",
    "                     beta_regul : 3e-4\n",
    "                    }\n",
    "        _, l, predictions = session.run(\n",
    "          [optimizer, loss, train_prediction], feed_dict=feed_dict)\n",
    "        if (step % 50 == 0):\n",
    "            print(\"Minibatch loss at step %d: %f\" % (step, l))\n",
    "            print(\"Minibatch accuracy: %.1f%%\" % accuracy(predictions, train_batch_labels))\n",
    "            print(\"Validation accuracy: %.1f%%\" % accuracy(\n",
    "            valid_prediction.eval(), valid_labels))\n",
    "    print(\"Test accuracy: %.1f%%\" % accuracy(test_prediction.eval(), test_labels))"
   ]
  },
  {
   "cell_type": "code",
   "execution_count": 103,
   "metadata": {
    "collapsed": false
   },
   "outputs": [
    {
     "name": "stdout",
     "output_type": "stream",
     "text": [
      "Accuracy for regularization param %.3f: %.1f (0.0001, 92.049999999999997)\n",
      "Accuracy for regularization param %.3f: %.1f (0.00012589254117941674, 90.700000000000003)\n",
      "Accuracy for regularization param %.3f: %.1f (0.00015848931924611142, 91.650000000000006)\n",
      "Accuracy for regularization param %.3f: %.1f (0.00019952623149688809, 91.599999999999994)\n",
      "Accuracy for regularization param %.3f: %.1f (0.00025118864315095823, 91.799999999999997)\n",
      "Accuracy for regularization param %.3f: %.1f (0.00031622776601683826, 93.25)\n",
      "Accuracy for regularization param %.3f: %.1f (0.00039810717055349773, 91.799999999999997)\n",
      "Accuracy for regularization param %.3f: %.1f (0.00050118723362727296, 91.950000000000003)\n",
      "Accuracy for regularization param %.3f: %.1f (0.00063095734448019429, 91.75)\n",
      "Accuracy for regularization param %.3f: %.1f (0.00079432823472428294, 90.549999999999997)\n",
      "Accuracy for regularization param %.3f: %.1f (0.001000000000000002, 91.349999999999994)\n",
      "Accuracy for regularization param %.3f: %.1f (0.0012589254117941701, 92.700000000000003)\n",
      "Accuracy for regularization param %.3f: %.1f (0.0015848931924611173, 91.900000000000006)\n",
      "Accuracy for regularization param %.3f: %.1f (0.001995262314968885, 91.099999999999994)\n",
      "Accuracy for regularization param %.3f: %.1f (0.0025118864315095872, 91.049999999999997)\n",
      "Accuracy for regularization param %.3f: %.1f (0.0031622776601683889, 91.900000000000006)\n",
      "Accuracy for regularization param %.3f: %.1f (0.0039810717055349856, 91.400000000000006)\n",
      "Accuracy for regularization param %.3f: %.1f (0.0050118723362727402, 90.349999999999994)\n",
      "Accuracy for regularization param %.3f: %.1f (0.0063095734448019554, 88.799999999999997)\n",
      "Accuracy for regularization param %.3f: %.1f (0.0079432823472428467, 88.25)\n",
      "[92.049999999999997, 90.700000000000003, 91.650000000000006, 91.599999999999994, 91.799999999999997, 93.25, 91.799999999999997, 91.950000000000003, 91.75, 90.549999999999997, 91.349999999999994, 92.700000000000003, 91.900000000000006, 91.099999999999994, 91.049999999999997, 91.900000000000006, 91.400000000000006, 90.349999999999994, 88.799999999999997, 88.25]\n"
     ]
    }
   ],
   "source": [
    "regul_val = [pow(10, i) for i in np.arange( -4, -2, 0.1)]\n",
    "accuracy_val = []\n",
    "\n",
    "for regul in regul_val:\n",
    "    offset = int(test_end_index)\n",
    "    trainNormalX = rescaledNormalX[test_end_index:, :]\n",
    "    class_batch_size = int(batch_size)/2\n",
    "    \n",
    "    with tf.Session(graph=graph) as session:\n",
    "        tf.global_variables_initializer().run()\n",
    "        for step in range(num_steps):\n",
    "            np.random.shuffle(trainNormalX)\n",
    "            train_batch_data = np.concatenate((rescaledBotnetX[offset:(offset+class_batch_size),:], \n",
    "                                   trainNormalX[:class_batch_size,:]))\n",
    "            train_batch_labels = np.concatenate((botnetY[:class_batch_size], \n",
    "                                 normalY[:class_batch_size]))\n",
    "            train_batch_labels = (np.arange(num_labels) == train_batch_labels[:,None]).astype(np.float64)\n",
    "            offset = offset + class_batch_size\n",
    "            # Prepare a dictionary telling the session where to feed the minibatch.\n",
    "            # The key of the dictionary is the placeholder node of the graph to be fed,\n",
    "            # and the value is the numpy array to feed to it.\n",
    "            feed_dict = {tf_train_dataset : train_batch_data, \n",
    "                         tf_train_labels : train_batch_labels,\n",
    "                         beta_regul : regul\n",
    "                        }\n",
    "            _, l, predictions = session.run(\n",
    "              [optimizer, loss, train_prediction], feed_dict=feed_dict)\n",
    "        print(\"Accuracy for regularization param %.3f: %.1f\", (regul, accuracy(test_prediction.eval(), test_labels)))\n",
    "        accuracy_val.append(accuracy(test_prediction.eval(), test_labels))\n",
    "        \n",
    "print(accuracy_val)    "
   ]
  },
  {
   "cell_type": "code",
   "execution_count": 104,
   "metadata": {
    "collapsed": false
   },
   "outputs": [
    {
     "data": {
      "image/png": "[encoded data removed]",
      "text/plain": [
       "<matplotlib.figure.Figure at 0x10c1ef518>"
      ]
     },
     "metadata": {},
     "output_type": "display_data"
    }
   ],
   "source": [
    "import matplotlib.pyplot as plt\n",
    "%matplotlib inline\n",
    "\n",
    "plt.semilogx(regul_val, accuracy_val)\n",
    "plt.grid(True)\n",
    "plt.title('Test accuracy by regularization (1-layer net)')\n",
    "plt.show()"
   ]
  },
  {
   "cell_type": "code",
   "execution_count": null,
   "metadata": {
    "collapsed": true
   },
   "outputs": [],
   "source": []
  }
 ],
 "metadata": {
  "kernelspec": {
   "display_name": "Python 3",
   "language": "python",
   "name": "python3"
  },
  "language_info": {
   "codemirror_mode": {
    "name": "ipython",
    "version": 3
   },
   "file_extension": ".py",
   "mimetype": "text/x-python",
   "name": "python",
   "nbconvert_exporter": "python",
   "pygments_lexer": "ipython3",
   "version": "3.5.2"
  }
 },
 "nbformat": 4,
 "nbformat_minor": 1
}
