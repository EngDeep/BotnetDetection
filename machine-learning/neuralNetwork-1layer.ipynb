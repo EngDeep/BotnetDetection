{
 "cells": [
  {
   "cell_type": "code",
   "execution_count": 18,
   "metadata": {
    "collapsed": false
   },
   "outputs": [
    {
     "name": "stdout",
     "output_type": "stream",
     "text": [
      "(52580, 36)\n"
     ]
    }
   ],
   "source": [
    "import numpy as np\n",
    "import scipy\n",
    "from sklearn.preprocessing import MinMaxScaler\n",
    "import warnings\n",
    "warnings.filterwarnings(\"ignore\",category=np.VisibleDeprecationWarning)\n",
    "\n",
    "dataset = np.loadtxt(\"./features.txt\", delimiter=\" \");\n",
    "print(dataset.shape)"
   ]
  },
  {
   "cell_type": "code",
   "execution_count": 19,
   "metadata": {
    "collapsed": false
   },
   "outputs": [],
   "source": [
    "import tensorflow as tf\n",
    "\n",
    "num_labels = 2\n",
    "batch_size = 256\n",
    "num_features = 35\n",
    "test_size = 2000\n",
    "num_hidden_nodes = 4096\n",
    "\n",
    "graph = tf.Graph()\n",
    "with graph.as_default():\n",
    "    tf_train_dataset = tf.placeholder(tf.float64, shape=(batch_size, num_features))\n",
    "    tf_train_labels = tf.placeholder(tf.float64, shape=(batch_size, num_labels))\n",
    "    tf_valid_dataset = tf.placeholder(tf.float64, shape=(test_size, num_features))\n",
    "    tf_test_dataset = tf.placeholder(tf.float64, shape=(test_size, num_features))\n",
    "    beta_regul = tf.placeholder(tf.float64)\n",
    "\n",
    "    # Variables.\n",
    "    weights1 = tf.Variable(tf.truncated_normal([num_features, num_hidden_nodes], dtype=tf.float64), dtype=tf.float64)\n",
    "    biases1 = tf.Variable(tf.zeros([num_hidden_nodes], dtype=tf.float64), dtype=tf.float64)\n",
    "    weights2 = tf.Variable(tf.truncated_normal([num_hidden_nodes, num_labels], dtype=tf.float64), dtype=tf.float64)\n",
    "    biases2 = tf.Variable(tf.zeros([num_labels], dtype=tf.float64), dtype=tf.float64)\n",
    "\n",
    "    # Training computation.\n",
    "    lay1_train = tf.nn.relu(tf.matmul(tf_train_dataset, weights1) + biases1)\n",
    "    drop1 = tf.nn.dropout(lay1_train, 0.5)\n",
    "    logits = tf.matmul(drop1, weights2) + biases2\n",
    "    loss = tf.reduce_mean(tf.nn.softmax_cross_entropy_with_logits(logits, tf_train_labels)) + \\\n",
    "      beta_regul * (tf.nn.l2_loss(weights1) + tf.nn.l2_loss(weights2))\n",
    "\n",
    "    # Optimizer.\n",
    "    optimizer = tf.train.GradientDescentOptimizer(0.5).minimize(loss)\n",
    "\n",
    "    # Predictions for the training, validation, and test data.\n",
    "    train_prediction = tf.nn.softmax(logits)\n",
    "    lay1_valid = tf.nn.relu(tf.matmul(tf_valid_dataset, weights1) + biases1)\n",
    "    valid_prediction = tf.nn.softmax(tf.matmul(lay1_valid, weights2) + biases2)\n",
    "    lay1_test = tf.nn.relu(tf.matmul(tf_test_dataset, weights1) + biases1)\n",
    "    test_prediction = tf.nn.softmax(tf.matmul(lay1_test, weights2) + biases2)"
   ]
  },
  {
   "cell_type": "code",
   "execution_count": 20,
   "metadata": {
    "collapsed": false
   },
   "outputs": [],
   "source": [
    "def accuracy(predictions, labels):\n",
    "    return (100.0 * np.sum(np.argmax(predictions, 1) == np.argmax(labels, 1)) / predictions.shape[0])"
   ]
  },
  {
   "cell_type": "code",
   "execution_count": 21,
   "metadata": {
    "collapsed": true
   },
   "outputs": [],
   "source": [
    "'''\n",
    "Feature Information\n",
    "Feature Set 1: Generic features\n",
    "    F1 - Total Source IPs per destination IP\n",
    "    F2 - Total Protocols used for communication per destination IP\n",
    "    F3 - Total Bidirectional flows per destination IP\n",
    "    F4 - Total Client flows per destination IP\n",
    "    F5 - Total Server flows per destination IP\n",
    "    F6 - Protocols used for communication represented as bit string\n",
    "\n",
    "Feature Set 2: Aggregate features\n",
    "    F7 : F12 - Total, Max, Min, Mean, Variance, Std of Flows per destination IP\n",
    "    F13 : F18 - Total, Max, Min, Mean, Variance, Std of Packets per destination IP\n",
    "    F19 : F24 - Total, Max, Min, Mean, Variance, Std of Bytes per destination IP\n",
    "    F25 : F30 - Total, Max, Min, Mean, Variance, Std of SourceBytes per destination IP\n",
    "\n",
    "Feature Set 3: Subnet Features\n",
    "    F31 - No. of distinct IPs in dstIP/24 subnet\n",
    "    F32 - Total Flows in dstIP/24 subnet\n",
    "    F33 - Total Packets in dstIP/24 subnet\n",
    "\n",
    "Feature Set 4: Periodic Communication Features\n",
    "    F34 - Total periodic communications involved per destination IP\n",
    "    F35 - Ratio of total source IPs involved in periodic communication over total source IPs involved per dst IP\n",
    "'''\n",
    "\n",
    "genericFeatures = list(range(6))\n",
    "aggregateFeatures = list(range(6, 30))\n",
    "subnetFeatures = list(range(30, 33))\n",
    "periodicCommnFeatures = [33, 34]\n",
    "\n",
    "genericAggregate = genericFeatures + aggregateFeatures\n",
    "genericSubnet = genericFeatures + subnetFeatures\n",
    "genericPeriodic = genericFeatures + periodicCommnFeatures\n",
    "aggregateSubnet = aggregateFeatures + subnetFeatures\n",
    "aggregatePeriodic = aggregateFeatures + periodicCommnFeatures\n",
    "subnetPeriodic = subnetFeatures + periodicCommnFeatures\n",
    "\n",
    "withoutGenericFeatures = [columnIndex for columnIndex in range(35) if columnIndex not in genericFeatures]\n",
    "withoutAggregateFeatures = [columnIndex for columnIndex in range(35) if columnIndex not in aggregateFeatures]\n",
    "withoutSubnetFeatures = [columnIndex for columnIndex in range(35) if columnIndex not in subnetFeatures]\n",
    "withoutPeriodicCommnFeatures = [columnIndex for columnIndex in range(35) if columnIndex not in periodicCommnFeatures]\n",
    "\n",
    "configuration = [genericFeatures, aggregateFeatures, subnetFeatures, periodicCommnFeatures, \n",
    "                 genericAggregate, genericSubnet, genericPeriodic, aggregateSubnet, aggregatePeriodic, subnetPeriodic,\n",
    "                 withoutGenericFeatures, withoutAggregateFeatures, withoutSubnetFeatures, withoutPeriodicCommnFeatures]\n"
   ]
  },
  {
   "cell_type": "code",
   "execution_count": 22,
   "metadata": {
    "collapsed": true
   },
   "outputs": [],
   "source": [
    "valid_start_index = 0\n",
    "valid_end_index = 1000\n",
    "test_start_index = 1000\n",
    "test_end_index = 2000\n",
    "\n",
    "class Dataset:\n",
    "    \n",
    "    def __init__(self, dataset):\n",
    "        np.random.shuffle(dataset)\n",
    "\n",
    "        botnetDataset = dataset[dataset[:,35]==1, :]\n",
    "        normalDataset = dataset[dataset[:,35]==0, :]\n",
    "\n",
    "        botnetX = botnetDataset[:,:35]\n",
    "        normalX = normalDataset[:,:35]\n",
    "        \n",
    "        self.botnetY = botnetDataset[:, 35]\n",
    "        self.normalY = normalDataset[:, 35]\n",
    "\n",
    "        scaler = MinMaxScaler(feature_range=(0, 1))\n",
    "        self.origRescaledBotnetX = scaler.fit_transform(botnetX)\n",
    "        self.origRescaledNormalX = scaler.fit_transform(normalX)\n",
    "    \n",
    "    def updateColumns(self, columns):\n",
    "        truncBotX = self.origRescaledBotnetX[:, columns]\n",
    "        truncNormalX = self.origRescaledNormalX[:, columns]\n",
    "        return truncBotX, truncNormalX\n",
    "    \n",
    "    def getTrainingDataSet(self, rescaledBotnetX, rescaledNormalX):\n",
    "        return rescaledBotnetX[test_end_index:,:], rescaledNormalX[test_end_index:,:], \\\n",
    "    self.botnetY[test_end_index:], self.normalY[test_end_index:]\n",
    "    \n",
    "    def getValidationDataSet(self, rescaledBotnetX, rescaledNormalX):\n",
    "        validation_dataset = np.concatenate((rescaledBotnetX[valid_start_index:valid_end_index,:], \n",
    "                                         rescaledNormalX[valid_start_index:valid_end_index,:]))\n",
    "        valid_labels = np.concatenate((self.botnetY[valid_start_index:valid_end_index], \n",
    "                                       self.normalY[valid_start_index:valid_end_index]))\n",
    "        valid_labels = (np.arange(num_labels) == valid_labels[:,None]).astype(np.float64)\n",
    "        return validation_dataset, valid_labels\n",
    "        \n",
    "    def getTestingDataSet(self, rescaledBotnetX, rescaledNormalX):\n",
    "        test_dataset = np.concatenate((rescaledBotnetX[test_start_index:test_end_index,:], \n",
    "                                   rescaledNormalX[test_start_index:test_end_index,:]))\n",
    "        test_labels = np.concatenate((self.botnetY[test_start_index:test_end_index], \n",
    "                                 self.normalY[test_start_index:test_end_index]))\n",
    "        test_labels = (np.arange(num_labels) == test_labels[:,None]).astype(np.float64)\n",
    "        return test_dataset, test_labels"
   ]
  },
  {
   "cell_type": "code",
   "execution_count": 23,
   "metadata": {
    "collapsed": false
   },
   "outputs": [
    {
     "name": "stdout",
     "output_type": "stream",
     "text": [
      "Test accuracy for regularization param 0.000100 : 90.3%\n",
      "Test accuracy for regularization param 0.000126 : 90.3%\n",
      "Test accuracy for regularization param 0.000158 : 90.9%\n",
      "Test accuracy for regularization param 0.000200 : 91.0%\n",
      "Test accuracy for regularization param 0.000251 : 90.2%\n",
      "Test accuracy for regularization param 0.000316 : 89.7%\n",
      "Test accuracy for regularization param 0.000398 : 90.1%\n",
      "Test accuracy for regularization param 0.000501 : 91.0%\n",
      "Test accuracy for regularization param 0.000631 : 90.8%\n",
      "Test accuracy for regularization param 0.000794 : 90.4%\n",
      "Test accuracy for regularization param 0.001000 : 90.4%\n",
      "Test accuracy for regularization param 0.001259 : 88.2%\n",
      "Test accuracy for regularization param 0.001585 : 90.8%\n",
      "Test accuracy for regularization param 0.001995 : 90.0%\n",
      "Test accuracy for regularization param 0.002512 : 90.3%\n",
      "Test accuracy for regularization param 0.003162 : 92.4%\n",
      "Test accuracy for regularization param 0.003981 : 90.4%\n",
      "Test accuracy for regularization param 0.005012 : 90.3%\n",
      "Test accuracy for regularization param 0.006310 : 90.1%\n",
      "Test accuracy for regularization param 0.007943 : 90.0%\n",
      "[90.299999999999997, 90.349999999999994, 90.900000000000006, 91.0, 90.25, 89.650000000000006, 90.099999999999994, 90.950000000000003, 90.799999999999997, 90.400000000000006, 90.400000000000006, 88.25, 90.799999999999997, 90.049999999999997, 90.299999999999997, 92.400000000000006, 90.400000000000006, 90.299999999999997, 90.099999999999994, 90.0]\n"
     ]
    }
   ],
   "source": [
    "regul_val = [pow(10, i) for i in np.arange( -4, -2, 0.1)]\n",
    "accuracy_val = []\n",
    "num_steps = 250\n",
    "class_batch_size = int(batch_size)/2\n",
    "\n",
    "datasetHelper = Dataset(dataset)\n",
    "valid_dataset, valid_labels = datasetHelper.getValidationDataSet(datasetHelper.origRescaledBotnetX, \n",
    "                                                                 datasetHelper.origRescaledNormalX)\n",
    "test_dataset, test_labels = datasetHelper.getTestingDataSet(datasetHelper.origRescaledBotnetX, \n",
    "                                                            datasetHelper.origRescaledNormalX)\n",
    "trainBotnetX, trainNormalX, trainBotnetY, trainNormalY = datasetHelper.getTrainingDataSet(datasetHelper.origRescaledBotnetX,\n",
    "                                                                                          datasetHelper.origRescaledNormalX)\n",
    "\n",
    "for regul in regul_val:\n",
    "    offset = 0\n",
    "    with tf.Session(graph=graph) as session:\n",
    "\n",
    "        tf.global_variables_initializer().run()\n",
    "        for step in range(num_steps):\n",
    "            np.random.shuffle(trainNormalX)\n",
    "            train_batch_data = np.concatenate((trainBotnetX[offset:(offset+class_batch_size),:], \n",
    "                                   trainNormalX[:class_batch_size,:]))\n",
    "            train_batch_labels = np.concatenate((trainBotnetY[:class_batch_size], \n",
    "                                 trainNormalY[:class_batch_size]))\n",
    "            train_batch_labels = (np.arange(num_labels) == train_batch_labels[:,None]).astype(np.float64)\n",
    "            offset = offset + class_batch_size\n",
    "\n",
    "            feed_dict = {tf_train_dataset : train_batch_data, \n",
    "                         tf_train_labels : train_batch_labels,\n",
    "                         tf_valid_dataset : valid_dataset,\n",
    "                         tf_test_dataset : test_dataset,\n",
    "                         beta_regul : 3e-4\n",
    "                        }\n",
    "            \n",
    "            _, l, predictions = session.run(\n",
    "              [optimizer, loss, train_prediction], feed_dict=feed_dict)\n",
    "        \n",
    "        feed_dict = { tf_test_dataset : test_dataset,\n",
    "                      beta_regul : 3e-4 }\n",
    "        print(\"Test accuracy for regularization param %.6f : %.1f%%\" % (regul, accuracy(test_prediction.eval(feed_dict=feed_dict), test_labels)))\n",
    "        accuracy_val.append(accuracy(test_prediction.eval(feed_dict=feed_dict), test_labels))\n",
    "        \n",
    "print(accuracy_val)    "
   ]
  },
  {
   "cell_type": "code",
   "execution_count": 24,
   "metadata": {
    "collapsed": false
   },
   "outputs": [
    {
     "data": {
      "image/png": "[encoded data removed]",
      "text/plain": [
       "<matplotlib.figure.Figure at 0x11772d208>"
      ]
     },
     "metadata": {},
     "output_type": "display_data"
    }
   ],
   "source": [
    "import matplotlib.pyplot as plt\n",
    "%matplotlib inline\n",
    "\n",
    "plt.semilogx(regul_val, accuracy_val)\n",
    "plt.grid(True)\n",
    "plt.title('Test accuracy by regularization (1-layer net)')\n",
    "plt.show()"
   ]
  },
  {
   "cell_type": "code",
   "execution_count": 16,
   "metadata": {
    "collapsed": false
   },
   "outputs": [
    {
     "name": "stdout",
     "output_type": "stream",
     "text": [
      "Average Test Accuracy over 10 folds with regularization param 3e-4 and features  [0, 1, 2, 3, 4, 5]  : 84.555\n",
      "Average Test Accuracy over 10 folds with regularization param 3e-4 and features  [6, 7, 8, 9, 10, 11, 12, 13, 14, 15, 16, 17, 18, 19, 20, 21, 22, 23, 24, 25, 26, 27, 28, 29]  : 69.1575\n",
      "Average Test Accuracy over 10 folds with regularization param 3e-4 and features  [30, 31, 32]  : 70.715\n",
      "Average Test Accuracy over 10 folds with regularization param 3e-4 and features  [33, 34]  : 65.8325\n",
      "Average Test Accuracy over 10 folds with regularization param 3e-4 and features  [0, 1, 2, 3, 4, 5, 6, 7, 8, 9, 10, 11, 12, 13, 14, 15, 16, 17, 18, 19, 20, 21, 22, 23, 24, 25, 26, 27, 28, 29]  : 69.972\n",
      "Average Test Accuracy over 10 folds with regularization param 3e-4 and features  [0, 1, 2, 3, 4, 5, 30, 31, 32]  : 73.3191666667\n",
      "Average Test Accuracy over 10 folds with regularization param 3e-4 and features  [0, 1, 2, 3, 4, 5, 33, 34]  : 75.0092857143\n",
      "Average Test Accuracy over 10 folds with regularization param 3e-4 and features  [6, 7, 8, 9, 10, 11, 12, 13, 14, 15, 16, 17, 18, 19, 20, 21, 22, 23, 24, 25, 26, 27, 28, 29, 30, 31, 32]  : 74.075\n",
      "Average Test Accuracy over 10 folds with regularization param 3e-4 and features  [6, 7, 8, 9, 10, 11, 12, 13, 14, 15, 16, 17, 18, 19, 20, 21, 22, 23, 24, 25, 26, 27, 28, 29, 33, 34]  : 71.9816666667\n",
      "Average Test Accuracy over 10 folds with regularization param 3e-4 and features  [30, 31, 32, 33, 34]  : 72.2125\n",
      "Average Test Accuracy over 10 folds with regularization param 3e-4 and features  [6, 7, 8, 9, 10, 11, 12, 13, 14, 15, 16, 17, 18, 19, 20, 21, 22, 23, 24, 25, 26, 27, 28, 29, 30, 31, 32, 33, 34]  : 72.4881818182\n",
      "Average Test Accuracy over 10 folds with regularization param 3e-4 and features  [0, 1, 2, 3, 4, 5, 30, 31, 32, 33, 34]  : 73.9875\n",
      "Average Test Accuracy over 10 folds with regularization param 3e-4 and features  [0, 1, 2, 3, 4, 5, 6, 7, 8, 9, 10, 11, 12, 13, 14, 15, 16, 17, 18, 19, 20, 21, 22, 23, 24, 25, 26, 27, 28, 29, 33, 34]  : 74.9711538462\n",
      "Average Test Accuracy over 10 folds with regularization param 3e-4 and features  [0, 1, 2, 3, 4, 5, 6, 7, 8, 9, 10, 11, 12, 13, 14, 15, 16, 17, 18, 19, 20, 21, 22, 23, 24, 25, 26, 27, 28, 29, 30, 31, 32]  : 76.0575\n"
     ]
    }
   ],
   "source": [
    "test_accuracy = []\n",
    "num_steps = 250\n",
    "class_batch_size = int(batch_size)/2\n",
    "\n",
    "for config in configuration:\n",
    "    \n",
    "    num_features = len(config)\n",
    "    \n",
    "    graph = tf.Graph()\n",
    "    with graph.as_default():\n",
    "        tf_train_dataset = tf.placeholder(tf.float64, shape=(batch_size, num_features))\n",
    "        tf_train_labels = tf.placeholder(tf.float64, shape=(batch_size, num_labels))\n",
    "        tf_valid_dataset = tf.placeholder(tf.float64, shape=(test_size, num_features))\n",
    "        tf_test_dataset = tf.placeholder(tf.float64, shape=(test_size, num_features))\n",
    "        beta_regul = tf.placeholder(tf.float64)\n",
    "\n",
    "        # Variables.\n",
    "        weights1 = tf.Variable(tf.truncated_normal([num_features, num_hidden_nodes], dtype=tf.float64), dtype=tf.float64)\n",
    "        biases1 = tf.Variable(tf.zeros([num_hidden_nodes], dtype=tf.float64), dtype=tf.float64)\n",
    "        weights2 = tf.Variable(tf.truncated_normal([num_hidden_nodes, num_labels], dtype=tf.float64), dtype=tf.float64)\n",
    "        biases2 = tf.Variable(tf.zeros([num_labels], dtype=tf.float64), dtype=tf.float64)\n",
    "\n",
    "        # Training computation.\n",
    "        lay1_train = tf.nn.relu(tf.matmul(tf_train_dataset, weights1) + biases1)\n",
    "        drop1 = tf.nn.dropout(lay1_train, 0.5)\n",
    "        logits = tf.matmul(drop1, weights2) + biases2\n",
    "        loss = tf.reduce_mean(tf.nn.softmax_cross_entropy_with_logits(logits, tf_train_labels)) + \\\n",
    "          beta_regul * (tf.nn.l2_loss(weights1) + tf.nn.l2_loss(weights2))\n",
    "\n",
    "        # Optimizer.\n",
    "        optimizer = tf.train.GradientDescentOptimizer(0.5).minimize(loss)\n",
    "\n",
    "        # Predictions for the training, validation, and test data.\n",
    "        train_prediction = tf.nn.softmax(logits)\n",
    "        lay1_valid = tf.nn.relu(tf.matmul(tf_valid_dataset, weights1) + biases1)\n",
    "        valid_prediction = tf.nn.softmax(tf.matmul(lay1_valid, weights2) + biases2)\n",
    "        lay1_test = tf.nn.relu(tf.matmul(tf_test_dataset, weights1) + biases1)\n",
    "        test_prediction = tf.nn.softmax(tf.matmul(lay1_test, weights2) + biases2)\n",
    "        \n",
    "    for cross_validation in range(10):\n",
    "\n",
    "        offset = 0\n",
    "        datasetHelper = Dataset(dataset)\n",
    "        truncBotX, trunNormalX = datasetHelper.updateColumns(config)\n",
    "        valid_dataset, valid_labels = datasetHelper.getValidationDataSet(truncBotX, trunNormalX)\n",
    "        test_dataset, test_labels = datasetHelper.getTestingDataSet(truncBotX, trunNormalX)\n",
    "        trainBotnetX, trainNormalX, trainBotnetY, trainNormalY = datasetHelper.getTrainingDataSet(truncBotX, trunNormalX)\n",
    "    \n",
    "        with tf.Session(graph=graph) as session:\n",
    "\n",
    "            tf.global_variables_initializer().run()\n",
    "            for step in range(num_steps):\n",
    "                np.random.shuffle(trainNormalX)\n",
    "                train_batch_data = np.concatenate((trainBotnetX[offset:(offset+class_batch_size),:], \n",
    "                                       trainNormalX[:class_batch_size,:]))\n",
    "                train_batch_labels = np.concatenate((trainBotnetY[:class_batch_size], \n",
    "                                     trainNormalY[:class_batch_size]))\n",
    "                train_batch_labels = (np.arange(num_labels) == train_batch_labels[:,None]).astype(np.float64)\n",
    "                offset = offset + class_batch_size\n",
    "\n",
    "                feed_dict = {tf_train_dataset : train_batch_data, \n",
    "                             tf_train_labels : train_batch_labels,\n",
    "                             tf_valid_dataset : valid_dataset,\n",
    "                             tf_test_dataset : test_dataset,\n",
    "                             beta_regul : 3e-4\n",
    "                            }\n",
    "\n",
    "                _, l, predictions = session.run(\n",
    "                  [optimizer, loss, train_prediction], feed_dict=feed_dict)\n",
    "\n",
    "            feed_dict = { tf_test_dataset : test_dataset,\n",
    "                          beta_regul : 3e-4 }\n",
    "            test_accuracy.append(accuracy(test_prediction.eval(feed_dict=feed_dict), test_labels))\n",
    "\n",
    "    print(\"Average Test Accuracy over 10 folds with regularization param 3e-4 and features \", config, \" :\",\n",
    "          np.mean(test_accuracy))"
   ]
  },
  {
   "cell_type": "code",
   "execution_count": 8,
   "metadata": {
    "collapsed": false
   },
   "outputs": [
    {
     "data": {
      "image/png": "[encoded data removed]",
      "text/plain": [
       "<matplotlib.figure.Figure at 0x11d696eb8>"
      ]
     },
     "metadata": {},
     "output_type": "display_data"
    }
   ],
   "source": [
    "import matplotlib.pyplot as plt\n",
    "%matplotlib inline\n",
    "\n",
    "\n",
    "x = np.array(np.arange(0, 10, 1))\n",
    "y = np.array(test_accuracy)\n",
    "plt.plot(x, y)\n",
    "plt.grid(True)\n",
    "plt.title('Test accuracy over 10 folds (1-layer net)')\n",
    "plt.show()"
   ]
  },
  {
   "cell_type": "code",
   "execution_count": null,
   "metadata": {
    "collapsed": true
   },
   "outputs": [],
   "source": []
  }
 ],
 "metadata": {
  "kernelspec": {
   "display_name": "Python 3",
   "language": "python",
   "name": "python3"
  },
  "language_info": {
   "codemirror_mode": {
    "name": "ipython",
    "version": 3
   },
   "file_extension": ".py",
   "mimetype": "text/x-python",
   "name": "python",
   "nbconvert_exporter": "python",
   "pygments_lexer": "ipython3",
   "version": "3.5.2"
  }
 },
 "nbformat": 4,
 "nbformat_minor": 1
}
