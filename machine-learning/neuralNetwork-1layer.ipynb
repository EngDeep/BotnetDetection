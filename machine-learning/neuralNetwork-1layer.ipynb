{
 "cells": [
  {
   "cell_type": "code",
   "execution_count": 42,
   "metadata": {
    "collapsed": false
   },
   "outputs": [
    {
     "name": "stdout",
     "output_type": "stream",
     "text": [
      "(52580, 36)\n"
     ]
    }
   ],
   "source": [
    "import numpy as np\n",
    "import scipy\n",
    "from sklearn.preprocessing import MinMaxScaler\n",
    "import warnings\n",
    "warnings.filterwarnings(\"ignore\",category=np.VisibleDeprecationWarning)\n",
    "\n",
    "dataset = np.loadtxt(\"./features.txt\", delimiter=\" \");\n",
    "print(dataset.shape)"
   ]
  },
  {
   "cell_type": "code",
   "execution_count": 43,
   "metadata": {
    "collapsed": false
   },
   "outputs": [],
   "source": [
    "import tensorflow as tf\n",
    "\n",
    "num_labels = 2\n",
    "num_features = 33\n",
    "batch_size = 256\n",
    "test_size = 2000\n",
    "num_hidden_nodes = 4096\n",
    "\n",
    "graph = tf.Graph()\n",
    "with graph.as_default():\n",
    "    tf_train_dataset = tf.placeholder(tf.float64, shape=(batch_size, num_features))\n",
    "    tf_train_labels = tf.placeholder(tf.float64, shape=(batch_size, num_labels))\n",
    "    tf_valid_dataset = tf.placeholder(tf.float64, shape=(test_size, num_features))\n",
    "    tf_test_dataset = tf.placeholder(tf.float64, shape=(test_size, num_features))\n",
    "    beta_regul = tf.placeholder(tf.float64)\n",
    "    \n",
    "    # Variables.\n",
    "    weights1 = tf.Variable(tf.truncated_normal([num_features, num_hidden_nodes], dtype=tf.float64), dtype=tf.float64)\n",
    "    biases1 = tf.Variable(tf.zeros([num_hidden_nodes], dtype=tf.float64), dtype=tf.float64)\n",
    "    weights2 = tf.Variable(tf.truncated_normal([num_hidden_nodes, num_labels], dtype=tf.float64), dtype=tf.float64)\n",
    "    biases2 = tf.Variable(tf.zeros([num_labels], dtype=tf.float64), dtype=tf.float64)\n",
    "    \n",
    "    # Training computation.\n",
    "    lay1_train = tf.nn.relu(tf.matmul(tf_train_dataset, weights1) + biases1)\n",
    "    drop1 = tf.nn.dropout(lay1_train, 0.5)\n",
    "    logits = tf.matmul(drop1, weights2) + biases2\n",
    "    loss = tf.reduce_mean(tf.nn.softmax_cross_entropy_with_logits(logits, tf_train_labels)) + \\\n",
    "      beta_regul * (tf.nn.l2_loss(weights1) + tf.nn.l2_loss(weights2))\n",
    "  \n",
    "    # Optimizer.\n",
    "    optimizer = tf.train.GradientDescentOptimizer(0.5).minimize(loss)\n",
    "  \n",
    "    # Predictions for the training, validation, and test data.\n",
    "    train_prediction = tf.nn.softmax(logits)\n",
    "    lay1_valid = tf.nn.relu(tf.matmul(tf_valid_dataset, weights1) + biases1)\n",
    "    valid_prediction = tf.nn.softmax(tf.matmul(lay1_valid, weights2) + biases2)\n",
    "    lay1_test = tf.nn.relu(tf.matmul(tf_test_dataset, weights1) + biases1)\n",
    "    test_prediction = tf.nn.softmax(tf.matmul(lay1_test, weights2) + biases2)"
   ]
  },
  {
   "cell_type": "code",
   "execution_count": 44,
   "metadata": {
    "collapsed": false
   },
   "outputs": [],
   "source": [
    "def accuracy(predictions, labels):\n",
    "    return (100.0 * np.sum(np.argmax(predictions, 1) == np.argmax(labels, 1)) / predictions.shape[0])"
   ]
  },
  {
   "cell_type": "code",
   "execution_count": 45,
   "metadata": {
    "collapsed": true
   },
   "outputs": [],
   "source": [
    "valid_start_index = 0\n",
    "valid_end_index = 1000\n",
    "test_start_index = 1000\n",
    "test_end_index = 2000\n",
    "\n",
    "class Dataset:\n",
    "    \n",
    "    genericFeatures = range(6)\n",
    "    aggregateFeatures = range(6, 30)\n",
    "    subnetFeatures = range(30, 33)\n",
    "    periodicCommnFeatures = [33, 34]\n",
    "\n",
    "    withoutGenericFeatures = [columnIndex for columnIndex in range(35) if columnIndex not in genericFeatures]\n",
    "    withoutAggregateFeatures = [columnIndex for columnIndex in range(35) if columnIndex not in aggregateFeatures]\n",
    "    withoutSubnetFeatures = [columnIndex for columnIndex in range(35) if columnIndex not in subnetFeatures]\n",
    "    withoutPeriodicCommnFeatures = [columnIndex for columnIndex in range(35) if columnIndex not in periodicCommnFeatures]\n",
    "\n",
    "    def __init__(self, dataset):\n",
    "        np.random.shuffle(dataset)\n",
    "\n",
    "        botnetDataset = dataset[dataset[:,35]==1, :]\n",
    "        normalDataset = dataset[dataset[:,35]==0, :]\n",
    "\n",
    "        botnetX = botnetDataset[:,:35]\n",
    "        normalX = normalDataset[:,:35]\n",
    "        \n",
    "        self.botnetY = botnetDataset[:, 35]\n",
    "        self.normalY = normalDataset[:, 35]\n",
    "\n",
    "        scaler = MinMaxScaler(feature_range=(0, 1))\n",
    "        self.rescaledBotnetX = scaler.fit_transform(botnetX)\n",
    "        self.rescaledNormalX = scaler.fit_transform(normalX)\n",
    "        \n",
    "    def deleteColumns(self, columns):\n",
    "        self.rescaledBotnetX = self.rescaledBotnetX[:, columns]\n",
    "        self.rescaledNormalX = self.rescaledNormalX[:, columns]\n",
    "        \n",
    "    def getTrainingDataSet(self):\n",
    "        return self.rescaledBotnetX[test_end_index:,:], self.rescaledNormalX[test_end_index:,:], \\\n",
    "    self.botnetY[test_end_index:], self.normalY[test_end_index:]\n",
    "    \n",
    "    def getValidationDataSet(self):\n",
    "        validation_dataset = np.concatenate((self.rescaledBotnetX[valid_start_index:valid_end_index,:], \n",
    "                                         self.rescaledNormalX[valid_start_index:valid_end_index,:]))\n",
    "        valid_labels = np.concatenate((self.botnetY[valid_start_index:valid_end_index], \n",
    "                                       self.normalY[valid_start_index:valid_end_index]))\n",
    "        valid_labels = (np.arange(num_labels) == valid_labels[:,None]).astype(np.float64)\n",
    "        return validation_dataset, valid_labels\n",
    "        \n",
    "    def getTestingDataSet(self):\n",
    "        test_dataset = np.concatenate((self.rescaledBotnetX[test_start_index:test_end_index,:], \n",
    "                                   self.rescaledNormalX[test_start_index:test_end_index,:]))\n",
    "        test_labels = np.concatenate((self.botnetY[test_start_index:test_end_index], \n",
    "                                 self.normalY[test_start_index:test_end_index]))\n",
    "        test_labels = (np.arange(num_labels) == test_labels[:,None]).astype(np.float64)\n",
    "        return test_dataset, test_labels"
   ]
  },
  {
   "cell_type": "code",
   "execution_count": null,
   "metadata": {
    "collapsed": false
   },
   "outputs": [
    {
     "name": "stdout",
     "output_type": "stream",
     "text": [
      "Test accuracy for regularization param 0.000100 : 90.7%\n"
     ]
    }
   ],
   "source": [
    "regul_val = [pow(10, i) for i in np.arange( -4, -2, 0.1)]\n",
    "accuracy_val = []\n",
    "num_steps = 250\n",
    "class_batch_size = int(batch_size)/2\n",
    "\n",
    "datasetHelper = Dataset(dataset)\n",
    "datasetHelper.deleteColumns(Dataset.withoutPeriodicCommnFeatures)\n",
    "valid_dataset, valid_labels = datasetHelper.getValidationDataSet()\n",
    "test_dataset, test_labels = datasetHelper.getTestingDataSet()\n",
    "trainBotnetX, trainNormalX, trainBotnetY, trainNormalY = datasetHelper.getTrainingDataSet()\n",
    "\n",
    "for regul in regul_val:\n",
    "    offset = 0\n",
    "    with tf.Session(graph=graph) as session:\n",
    "\n",
    "        tf.global_variables_initializer().run()\n",
    "        for step in range(num_steps):\n",
    "            np.random.shuffle(trainNormalX)\n",
    "            train_batch_data = np.concatenate((trainBotnetX[offset:(offset+class_batch_size),:], \n",
    "                                   trainNormalX[:class_batch_size,:]))\n",
    "            train_batch_labels = np.concatenate((trainBotnetY[:class_batch_size], \n",
    "                                 trainNormalY[:class_batch_size]))\n",
    "            train_batch_labels = (np.arange(num_labels) == train_batch_labels[:,None]).astype(np.float64)\n",
    "            offset = offset + class_batch_size\n",
    "\n",
    "            feed_dict = {tf_train_dataset : train_batch_data, \n",
    "                         tf_train_labels : train_batch_labels,\n",
    "                         tf_valid_dataset : valid_dataset,\n",
    "                         tf_test_dataset : test_dataset,\n",
    "                         beta_regul : 3e-4\n",
    "                        }\n",
    "            \n",
    "            _, l, predictions = session.run(\n",
    "              [optimizer, loss, train_prediction], feed_dict=feed_dict)\n",
    "        \n",
    "        feed_dict = { tf_test_dataset : test_dataset,\n",
    "                      beta_regul : 3e-4 }\n",
    "        print(\"Test accuracy for regularization param %.6f : %.1f%%\" % (regul, accuracy(test_prediction.eval(feed_dict=feed_dict), test_labels)))\n",
    "        accuracy_val.append(accuracy(test_prediction.eval(feed_dict=feed_dict), test_labels))\n",
    "        \n",
    "print(accuracy_val)    "
   ]
  },
  {
   "cell_type": "code",
   "execution_count": 6,
   "metadata": {
    "collapsed": false
   },
   "outputs": [
    {
     "data": {
      "image/png": "[encoded data removed]",
      "text/plain": [
       "<matplotlib.figure.Figure at 0x1161607b8>"
      ]
     },
     "metadata": {},
     "output_type": "display_data"
    }
   ],
   "source": [
    "import matplotlib.pyplot as plt\n",
    "%matplotlib inline\n",
    "\n",
    "plt.semilogx(regul_val, accuracy_val)\n",
    "plt.grid(True)\n",
    "plt.title('Test accuracy by regularization (1-layer net)')\n",
    "plt.show()"
   ]
  },
  {
   "cell_type": "code",
   "execution_count": 7,
   "metadata": {
    "collapsed": false
   },
   "outputs": [
    {
     "name": "stdout",
     "output_type": "stream",
     "text": [
      "Test accuracy: 89.3%\n",
      "Test accuracy: 91.0%\n",
      "Test accuracy: 90.6%\n",
      "Test accuracy: 91.8%\n",
      "Test accuracy: 91.3%\n",
      "Test accuracy: 90.6%\n",
      "Test accuracy: 91.3%\n",
      "Test accuracy: 91.0%\n",
      "Test accuracy: 90.9%\n",
      "Test accuracy: 90.5%\n",
      "Average Test Accuracy over 10 folds with regularization param 3e-4: 90.84\n"
     ]
    }
   ],
   "source": [
    "test_accuracy = []\n",
    "for cross_validation in range(10):\n",
    "    \n",
    "    offset = 0\n",
    "    datasetHelper = Dataset(dataset)\n",
    "    valid_dataset, valid_labels = datasetHelper.getValidationDataSet()\n",
    "    test_dataset, test_labels = datasetHelper.getTestingDataSet()\n",
    "    trainBotnetX, trainNormalX, trainBotnetY, trainNormalY = datasetHelper.getTrainingDataSet()\n",
    "    \n",
    "    with tf.Session(graph=graph) as session:\n",
    "\n",
    "        tf.global_variables_initializer().run()\n",
    "        for step in range(num_steps):\n",
    "            np.random.shuffle(trainNormalX)\n",
    "            train_batch_data = np.concatenate((trainBotnetX[offset:(offset+class_batch_size),:], \n",
    "                                   trainNormalX[:class_batch_size,:]))\n",
    "            train_batch_labels = np.concatenate((trainBotnetY[:class_batch_size], \n",
    "                                 trainNormalY[:class_batch_size]))\n",
    "            train_batch_labels = (np.arange(num_labels) == train_batch_labels[:,None]).astype(np.float64)\n",
    "            offset = offset + class_batch_size\n",
    "\n",
    "            feed_dict = {tf_train_dataset : train_batch_data, \n",
    "                         tf_train_labels : train_batch_labels,\n",
    "                         tf_valid_dataset : valid_dataset,\n",
    "                         tf_test_dataset : test_dataset,\n",
    "                         beta_regul : 3e-4\n",
    "                        }\n",
    "            \n",
    "            _, l, predictions = session.run(\n",
    "              [optimizer, loss, train_prediction], feed_dict=feed_dict)\n",
    "        \n",
    "        feed_dict = { tf_test_dataset : test_dataset,\n",
    "                      beta_regul : 3e-4 }\n",
    "        print(\"Test accuracy: %.1f%%\" % accuracy(test_prediction.eval(feed_dict=feed_dict), test_labels))\n",
    "        test_accuracy.append(accuracy(test_prediction.eval(feed_dict=feed_dict), test_labels))\n",
    "        \n",
    "print(\"Average Test Accuracy over 10 folds with regularization param 3e-4: %.2f\" % (np.mean(test_accuracy)))"
   ]
  },
  {
   "cell_type": "code",
   "execution_count": 8,
   "metadata": {
    "collapsed": false
   },
   "outputs": [
    {
     "data": {
      "image/png": "[encoded data removed]",
      "text/plain": [
       "<matplotlib.figure.Figure at 0x11d696eb8>"
      ]
     },
     "metadata": {},
     "output_type": "display_data"
    }
   ],
   "source": [
    "import matplotlib.pyplot as plt\n",
    "%matplotlib inline\n",
    "\n",
    "\n",
    "x = np.array(np.arange(0, 10, 1))\n",
    "y = np.array(test_accuracy)\n",
    "plt.plot(x, y)\n",
    "plt.grid(True)\n",
    "plt.title('Test accuracy over 10 folds (1-layer net)')\n",
    "plt.show()"
   ]
  },
  {
   "cell_type": "code",
   "execution_count": null,
   "metadata": {
    "collapsed": true
   },
   "outputs": [],
   "source": []
  }
 ],
 "metadata": {
  "kernelspec": {
   "display_name": "Python 3",
   "language": "python",
   "name": "python3"
  },
  "language_info": {
   "codemirror_mode": {
    "name": "ipython",
    "version": 3
   },
   "file_extension": ".py",
   "mimetype": "text/x-python",
   "name": "python",
   "nbconvert_exporter": "python",
   "pygments_lexer": "ipython3",
   "version": "3.5.2"
  }
 },
 "nbformat": 4,
 "nbformat_minor": 1
}
