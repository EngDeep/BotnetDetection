{
 "cells": [
  {
   "cell_type": "code",
   "execution_count": 1,
   "metadata": {
    "collapsed": false
   },
   "outputs": [
    {
     "name": "stdout",
     "output_type": "stream",
     "text": [
      "(52580, 35)\n"
     ]
    }
   ],
   "source": [
    "import numpy as np\n",
    "import scipy\n",
    "from sklearn.preprocessing import MinMaxScaler\n",
    "\n",
    "dataset = np.loadtxt(\"./features.txt\", delimiter=\" \");\n",
    "print(dataset.shape)\n",
    "\n",
    "X = dataset[:, :33]\n",
    "Y = dataset[:, 34]\n",
    "botnetDataset = dataset[dataset[:,34]==1, :]\n",
    "normalDataset = dataset[dataset[:,34]==0, :]\n",
    "\n",
    "botnetX = botnetDataset[:,:33]\n",
    "botnetY = botnetDataset[:, 34]\n",
    "\n",
    "normalX = normalDataset[:,:33]\n",
    "normalY = normalDataset[:, 34]\n",
    "\n",
    "scaler = MinMaxScaler(feature_range=(0, 1))\n",
    "rescaledBotnetX = scaler.fit_transform(botnetX)\n",
    "rescaledNormalX = scaler.fit_transform(normalX)\n",
    "rescaledX = scaler.fit_transform(X)"
   ]
  },
  {
   "cell_type": "code",
   "execution_count": 2,
   "metadata": {
    "collapsed": false
   },
   "outputs": [
    {
     "data": {
      "text/plain": [
       "0.98721947508558383"
      ]
     },
     "execution_count": 2,
     "metadata": {},
     "output_type": "execute_result"
    }
   ],
   "source": [
    "from sklearn.ensemble import RandomForestClassifier\n",
    "\n",
    "model = RandomForestClassifier(n_estimators=100)\n",
    "model = model.fit(rescaledX, Y)\n",
    "\n",
    "model.score(rescaledX, Y)"
   ]
  },
  {
   "cell_type": "code",
   "execution_count": 3,
   "metadata": {
    "collapsed": true
   },
   "outputs": [],
   "source": [
    "def GetNextBotnetSet(rescaledX, Y):\n",
    "    step = 4000\n",
    "    prevStep = 0\n",
    "    while step < rescaledX.shape[0]:\n",
    "        yield rescaledX[prevStep:step, :], Y[prevStep:step]\n",
    "        prevStep = step\n",
    "        step = step + 4000\n",
    "        \n",
    "    return rescaledX[prevStep:, :], Y[prevStep:]"
   ]
  },
  {
   "cell_type": "code",
   "execution_count": 4,
   "metadata": {
    "collapsed": false
   },
   "outputs": [
    {
     "name": "stderr",
     "output_type": "stream",
     "text": [
      "/usr/local/lib/python3.5/site-packages/sklearn/cross_validation.py:44: DeprecationWarning: This module was deprecated in version 0.18 in favor of the model_selection module into which all the refactored classes and functions are moved. Also note that the interface of the new CV iterators are different from that of this module. This module will be removed in 0.20.\n",
      "  \"This module will be removed in 0.20.\", DeprecationWarning)\n"
     ]
    },
    {
     "name": "stdout",
     "output_type": "stream",
     "text": [
      "0.999383096854\n",
      "0.999383096854\n",
      "1.0\n",
      "0.998149290561\n",
      "0.997532387415\n",
      "0.997532387415\n",
      "0.999383096854\n",
      "0.999383096854\n",
      "0.999383096854\n",
      "0.998149290561\n",
      "0.998766193708\n",
      "0.998149290561\n"
     ]
    }
   ],
   "source": [
    "from sklearn.cross_validation import train_test_split\n",
    "\n",
    "for botX, botY in GetNextBotnetSet(rescaledBotnetX, botnetY):\n",
    "    X = np.concatenate((botX, rescaledNormalX))\n",
    "    Y = np.concatenate((botY, normalY))\n",
    "    X_train, X_test, Y_train, Y_test = train_test_split(X, Y, test_size=0.2, random_state=42)\n",
    "    model2 = RandomForestClassifier(n_estimators=100)\n",
    "    model2 = model2.fit(X_train, Y_train)\n",
    "    print(model2.score(X_test, Y_test))"
   ]
  },
  {
   "cell_type": "code",
   "execution_count": 9,
   "metadata": {
    "collapsed": false
   },
   "outputs": [
    {
     "name": "stdout",
     "output_type": "stream",
     "text": [
      "0.993458921313 0.993210714727\n",
      "0.993086571981 0.986297987903\n",
      "0.987165669574 0.990248117516\n",
      "0.993704312615 0.994692013332\n",
      "0.989261694905 0.992223182323\n",
      "0.99382746495 0.995802987286\n",
      "0.995556164467 0.996296753487\n",
      "0.991976374237 0.992099740773\n",
      "0.994321596566 0.995926428836\n",
      "0.988518822974 0.980249351932\n",
      "0.988520954164 0.989260585113\n",
      "0.986179537532 0.986174546352\n"
     ]
    }
   ],
   "source": [
    "from sklearn.cross_validation import cross_val_score, cross_val_predict\n",
    "from sklearn import metrics\n",
    "\n",
    "for botX, botY in GetNextBotnetSet(rescaledBotnetX, botnetY):\n",
    "    X = np.concatenate((botX, rescaledNormalX))\n",
    "    Y = np.concatenate((botY, normalY))\n",
    "    scores = cross_val_score(RandomForestClassifier(n_estimators=1), X, Y, scoring='accuracy', cv=10)\n",
    "    predicted = cross_val_predict(RandomForestClassifier(n_estimators=1), X, Y, cv=10)\n",
    "    print(scores.mean(), metrics.accuracy_score(Y, predicted))"
   ]
  },
  {
   "cell_type": "code",
   "execution_count": null,
   "metadata": {
    "collapsed": true
   },
   "outputs": [],
   "source": []
  }
 ],
 "metadata": {
  "kernelspec": {
   "display_name": "Python 3",
   "language": "python",
   "name": "python3"
  },
  "language_info": {
   "codemirror_mode": {
    "name": "ipython",
    "version": 3
   },
   "file_extension": ".py",
   "mimetype": "text/x-python",
   "name": "python",
   "nbconvert_exporter": "python",
   "pygments_lexer": "ipython3",
   "version": "3.5.2"
  }
 },
 "nbformat": 4,
 "nbformat_minor": 1
}
