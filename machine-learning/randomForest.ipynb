{
 "cells": [
  {
   "cell_type": "code",
   "execution_count": 17,
   "metadata": {
    "collapsed": false
   },
   "outputs": [
    {
     "name": "stdout",
     "output_type": "stream",
     "text": [
      "(52580, 36)\n"
     ]
    }
   ],
   "source": [
    "import numpy as np\n",
    "import scipy\n",
    "from sklearn.preprocessing import MinMaxScaler\n",
    "import warnings\n",
    "warnings.filterwarnings(\"ignore\", category=DeprecationWarning) \n",
    "\n",
    "dataset = np.loadtxt(\"./features.txt\", delimiter=\" \");\n",
    "print(dataset.shape)\n",
    "\n",
    "X = dataset[:, :35]\n",
    "Y = dataset[:, 35]\n",
    "botnetDataset = dataset[dataset[:,35]==1, :]\n",
    "normalDataset = dataset[dataset[:,35]==0, :]\n",
    "\n",
    "botnetX = botnetDataset[:,:35]\n",
    "botnetY = botnetDataset[:, 35]\n",
    "\n",
    "normalX = normalDataset[:,:35]\n",
    "normalY = normalDataset[:, 35]\n",
    "\n",
    "scaler = MinMaxScaler(feature_range=(0, 1))\n",
    "rescaledBotnetX = scaler.fit_transform(botnetX)\n",
    "rescaledNormalX = scaler.fit_transform(normalX)\n",
    "rescaledX = scaler.fit_transform(X)"
   ]
  },
  {
   "cell_type": "code",
   "execution_count": 18,
   "metadata": {
    "collapsed": false
   },
   "outputs": [],
   "source": [
    "genericFeatures = range(6)\n",
    "aggregateFeatures = range(6, 30)\n",
    "subnetFeatures = range(30, 33)\n",
    "periodicCommnFeatures = [33, 34]\n",
    "\n",
    "withoutGenericFeatures = [columnIndex for columnIndex in range(35) if columnIndex not in genericFeatures]\n",
    "withoutAggregateFeatures = [columnIndex for columnIndex in range(35) if columnIndex not in aggregateFeatures]\n",
    "withoutSubnetFeatures = [columnIndex for columnIndex in range(35) if columnIndex not in subnetFeatures]\n",
    "withoutPeriodicCommnFeatures = [columnIndex for columnIndex in range(35) if columnIndex not in periodicCommnFeatures]\n",
    "\n",
    "def updateColumns(columns):\n",
    "    global rescaledBotnetX, rescaledNormalX, rescaledX\n",
    "    rescaledBotnetX = rescaledBotnetX[:, columns]\n",
    "    rescaledNormalX = rescaledNormalX[:, columns]\n",
    "    rescaledX = rescaledX[:, columns]\n",
    "    \n",
    "updateColumns(withoutSubnetFeatures)"
   ]
  },
  {
   "cell_type": "code",
   "execution_count": 19,
   "metadata": {
    "collapsed": true
   },
   "outputs": [],
   "source": [
    "def GetNextBotnetSet(rescaledX, Y):\n",
    "    step = 4000\n",
    "    prevStep = 0\n",
    "    while step < rescaledX.shape[0]:\n",
    "        yield rescaledX[prevStep:step, :], Y[prevStep:step]\n",
    "        prevStep = step\n",
    "        step = step + 4000\n",
    "        \n",
    "    return rescaledX[prevStep:, :], Y[prevStep:]"
   ]
  },
  {
   "cell_type": "code",
   "execution_count": 20,
   "metadata": {
    "collapsed": false
   },
   "outputs": [
    {
     "name": "stdout",
     "output_type": "stream",
     "text": [
      "0.998766193708\n",
      "0.999383096854\n",
      "0.999383096854\n",
      "0.996298581123\n",
      "0.997532387415\n",
      "0.997532387415\n",
      "0.998766193708\n",
      "0.999383096854\n",
      "0.999383096854\n",
      "0.996915484269\n",
      "0.998149290561\n",
      "0.998766193708\n"
     ]
    }
   ],
   "source": [
    "from sklearn.cross_validation import train_test_split\n",
    "\n",
    "for botX, botY in GetNextBotnetSet(rescaledBotnetX, botnetY):\n",
    "    X = np.concatenate((botX, rescaledNormalX))\n",
    "    Y = np.concatenate((botY, normalY))\n",
    "    X_train, X_test, Y_train, Y_test = train_test_split(X, Y, test_size=0.2, random_state=42)\n",
    "    model2 = RandomForestClassifier(n_estimators=100)\n",
    "    model2 = model2.fit(X_train, Y_train)\n",
    "    print(model2.score(X_test, Y_test))"
   ]
  },
  {
   "cell_type": "code",
   "execution_count": 9,
   "metadata": {
    "collapsed": false
   },
   "outputs": [
    {
     "name": "stdout",
     "output_type": "stream",
     "text": [
      "0.997531777565 0.998271818294\n",
      "0.997407407407 0.99703740279\n",
      "0.991975917553 0.989013702012\n",
      "0.997160950511 0.99703740279\n",
      "0.996790427912 0.996913961239\n",
      "0.997160646055 0.996667078139\n",
      "0.998148452604 0.998024935193\n",
      "0.995802621364 0.996420195038\n",
      "0.997901234568 0.996173311937\n",
      "0.987160646055 0.987655844957\n",
      "0.996174057329 0.996790519689\n",
      "0.996052427273 0.992593506974\n"
     ]
    }
   ],
   "source": [
    "from sklearn.cross_validation import cross_val_score, cross_val_predict\n",
    "from sklearn import metrics\n",
    "\n",
    "for botX, botY in GetNextBotnetSet(rescaledBotnetX, botnetY):\n",
    "    X = np.concatenate((botX, rescaledNormalX))\n",
    "    Y = np.concatenate((botY, normalY))\n",
    "    scores = cross_val_score(RandomForestClassifier(), X, Y, scoring='accuracy', cv=10)\n",
    "    predicted = cross_val_predict(RandomForestClassifier(), X, Y, cv=10)\n",
    "    print(scores.mean(), metrics.accuracy_score(Y, predicted))"
   ]
  },
  {
   "cell_type": "code",
   "execution_count": null,
   "metadata": {
    "collapsed": true
   },
   "outputs": [],
   "source": []
  }
 ],
 "metadata": {
  "kernelspec": {
   "display_name": "Python 3",
   "language": "python",
   "name": "python3"
  },
  "language_info": {
   "codemirror_mode": {
    "name": "ipython",
    "version": 3
   },
   "file_extension": ".py",
   "mimetype": "text/x-python",
   "name": "python",
   "nbconvert_exporter": "python",
   "pygments_lexer": "ipython3",
   "version": "3.5.2"
  }
 },
 "nbformat": 4,
 "nbformat_minor": 1
}
