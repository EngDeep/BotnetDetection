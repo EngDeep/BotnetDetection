{
 "cells": [
  {
   "cell_type": "code",
   "execution_count": 5,
   "metadata": {
    "collapsed": false
   },
   "outputs": [
    {
     "name": "stdout",
     "output_type": "stream",
     "text": [
      "(52580, 36)\n"
     ]
    }
   ],
   "source": [
    "import numpy as np\n",
    "import scipy\n",
    "from sklearn.preprocessing import MinMaxScaler\n",
    "import warnings\n",
    "warnings.filterwarnings(\"ignore\", category=DeprecationWarning) \n",
    "\n",
    "dataset = np.loadtxt(\"./features.txt\", delimiter=\" \");\n",
    "print(dataset.shape)\n",
    "\n",
    "X = dataset[:, :34]\n",
    "Y = dataset[:, 35]\n",
    "botnetDataset = dataset[dataset[:,35]==1, :]\n",
    "normalDataset = dataset[dataset[:,35]==0, :]\n",
    "\n",
    "botnetX = botnetDataset[:,:34]\n",
    "botnetY = botnetDataset[:, 35]\n",
    "\n",
    "normalX = normalDataset[:,:34]\n",
    "normalY = normalDataset[:, 35]\n",
    "\n",
    "scaler = MinMaxScaler(feature_range=(0, 1))\n",
    "rescaledBotnetX = scaler.fit_transform(botnetX)\n",
    "rescaledNormalX = scaler.fit_transform(normalX)\n",
    "rescaledX = scaler.fit_transform(X)\n"
   ]
  },
  {
   "cell_type": "code",
   "execution_count": 6,
   "metadata": {
    "collapsed": false
   },
   "outputs": [
    {
     "data": {
      "text/plain": [
       "0.92700646633701023"
      ]
     },
     "execution_count": 6,
     "metadata": {},
     "output_type": "execute_result"
    }
   ],
   "source": [
    "from sklearn.linear_model import LogisticRegression\n",
    "\n",
    "model = LogisticRegression()\n",
    "model = model.fit(rescaledX, Y)\n",
    "\n",
    "model.score(rescaledX, Y)"
   ]
  },
  {
   "cell_type": "code",
   "execution_count": 7,
   "metadata": {
    "collapsed": true
   },
   "outputs": [],
   "source": [
    "def GetNextBotnetSet(rescaledX, Y):\n",
    "    step = 4000\n",
    "    prevStep = 0\n",
    "    while step < rescaledX.shape[0]:\n",
    "        yield rescaledX[prevStep:step, :], Y[prevStep:step]\n",
    "        prevStep = step\n",
    "        step = step + 4000\n",
    "        \n",
    "    return rescaledX[prevStep:, :], Y[prevStep:]"
   ]
  },
  {
   "cell_type": "code",
   "execution_count": 8,
   "metadata": {
    "collapsed": false
   },
   "outputs": [
    {
     "name": "stdout",
     "output_type": "stream",
     "text": [
      "0.688463911166\n",
      "0.806909315238\n",
      "0.837754472548\n",
      "0.727945712523\n",
      "0.873534855028\n",
      "0.872917951882\n",
      "0.874151758174\n",
      "0.873534855028\n",
      "0.87476866132\n",
      "0.869216533004\n",
      "0.820481184454\n",
      "0.87476866132\n"
     ]
    }
   ],
   "source": [
    "from sklearn.cross_validation import train_test_split\n",
    "\n",
    "for botX, botY in GetNextBotnetSet(rescaledBotnetX, botnetY):\n",
    "    X = np.concatenate((botX, rescaledNormalX))\n",
    "    Y = np.concatenate((botY, normalY))\n",
    "    X_train, X_test, Y_train, Y_test = train_test_split(X, Y, test_size=0.2, random_state=42)\n",
    "    model2 = LogisticRegression()\n",
    "    model2 = model2.fit(X_train, Y_train)\n",
    "    print(model2.score(X_test, Y_test))"
   ]
  },
  {
   "cell_type": "code",
   "execution_count": 9,
   "metadata": {
    "collapsed": false
   },
   "outputs": [
    {
     "name": "stdout",
     "output_type": "stream",
     "text": [
      "0.668945669879 0.668929761758\n",
      "0.813721057679 0.813726700407\n",
      "0.848790397467 0.848784100728\n",
      "0.720174148666 0.720158005185\n",
      "0.876312889132 0.876311566473\n",
      "0.87927554764 0.879274163683\n",
      "0.883596687522 0.883594617948\n",
      "0.880880029228 0.880878903839\n",
      "0.881621987791 0.881619553142\n",
      "0.8797693748 0.879767929885\n",
      "0.838183008327 0.838168127392\n",
      "0.877675328432 0.877669423528\n"
     ]
    }
   ],
   "source": [
    "from sklearn.cross_validation import cross_val_score, cross_val_predict\n",
    "from sklearn import metrics\n",
    "\n",
    "for botX, botY in GetNextBotnetSet(rescaledBotnetX, botnetY):\n",
    "    X = np.concatenate((botX, rescaledNormalX))\n",
    "    Y = np.concatenate((botY, normalY))\n",
    "    scores = cross_val_score(LogisticRegression(), X, Y, scoring='accuracy', cv=10)\n",
    "    predicted = cross_val_predict(LogisticRegression(), X, Y, cv=10)\n",
    "    print(scores.mean(), metrics.accuracy_score(Y, predicted))"
   ]
  },
  {
   "cell_type": "code",
   "execution_count": null,
   "metadata": {
    "collapsed": true
   },
   "outputs": [],
   "source": []
  }
 ],
 "metadata": {
  "kernelspec": {
   "display_name": "Python 3",
   "language": "python",
   "name": "python3"
  },
  "language_info": {
   "codemirror_mode": {
    "name": "ipython",
    "version": 3
   },
   "file_extension": ".py",
   "mimetype": "text/x-python",
   "name": "python",
   "nbconvert_exporter": "python",
   "pygments_lexer": "ipython3",
   "version": "3.5.2"
  }
 },
 "nbformat": 4,
 "nbformat_minor": 1
}
