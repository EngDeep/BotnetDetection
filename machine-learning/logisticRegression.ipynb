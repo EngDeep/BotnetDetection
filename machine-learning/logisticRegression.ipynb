{
 "cells": [
  {
   "cell_type": "code",
   "execution_count": 6,
   "metadata": {
    "collapsed": false
   },
   "outputs": [
    {
     "name": "stdout",
     "output_type": "stream",
     "text": [
      "(52580, 36)\n"
     ]
    }
   ],
   "source": [
    "import numpy as np\n",
    "import scipy\n",
    "from sklearn.preprocessing import MinMaxScaler\n",
    "from sklearn.exceptions import UndefinedMetricWarning\n",
    "import warnings\n",
    "from sklearn.cross_validation import train_test_split\n",
    "from sklearn.cross_validation import cross_val_score, cross_val_predict\n",
    "from sklearn import metrics\n",
    "from sklearn.linear_model import LogisticRegression\n",
    "\n",
    "warnings.filterwarnings(\"ignore\", category=DeprecationWarning) \n",
    "warnings.filterwarnings(\"ignore\", category=UndefinedMetricWarning) \n",
    "\n",
    "dataset = np.loadtxt(\"./features.txt\", delimiter=\" \");\n",
    "print(dataset.shape)\n",
    "\n",
    "X = dataset[:, :35]\n",
    "Y = dataset[:, 35]\n",
    "botnetDataset = dataset[dataset[:,35]==1, :]\n",
    "normalDataset = dataset[dataset[:,35]==0, :]\n",
    "\n",
    "botnetX = botnetDataset[:,:35]\n",
    "botnetY = botnetDataset[:, 35]\n",
    "\n",
    "normalX = normalDataset[:,:35]\n",
    "normalY = normalDataset[:, 35]\n",
    "\n",
    "scaler = MinMaxScaler(feature_range=(0, 1))\n",
    "rescaledBotnetX = scaler.fit_transform(botnetX)\n",
    "rescaledNormalX = scaler.fit_transform(normalX)\n",
    "rescaledX = scaler.fit_transform(X)\n"
   ]
  },
  {
   "cell_type": "code",
   "execution_count": 7,
   "metadata": {
    "collapsed": true
   },
   "outputs": [],
   "source": [
    "'''\n",
    "Feature Information\n",
    "Feature Set 1: Generic features\n",
    "    F1 - Total Source IPs per destination IP\n",
    "    F2 - Total Protocols used for communication per destination IP\n",
    "    F3 - Total Bidirectional flows per destination IP\n",
    "    F4 - Total Client flows per destination IP\n",
    "    F5 - Total Server flows per destination IP\n",
    "    F6 - Protocols used for communication represented as bit string\n",
    "    \n",
    "Feature Set 2: Aggregate features\n",
    "    F7 : F12 - Total, Max, Min, Mean, Variance, Std of Flows per destination IP\n",
    "    F13 : F18 - Total, Max, Min, Mean, Variance, Std of Packets per destination IP\n",
    "    F19 : F24 - Total, Max, Min, Mean, Variance, Std of Bytes per destination IP\n",
    "    F25 : F30 - Total, Max, Min, Mean, Variance, Std of SourceBytes per destination IP\n",
    "    \n",
    "Feature Set 3: Subnet Features\n",
    "    F31 - No. of distinct IPs in dstIP/24 subnet\n",
    "    F32 - Total Flows in dstIP/24 subnet\n",
    "    F33 - Total Packets in dstIP/24 subnet\n",
    "    \n",
    "Feature Set 4: Periodic Communication Features\n",
    "    F34 - Total periodic communications involved per destination IP\n",
    "    F35 - Ratio of total source IPs involved in periodic communication over total source IPs involved per dst IP\n",
    "'''\n",
    "\n",
    "genericFeatures = list(range(6))\n",
    "aggregateFeatures = list(range(6, 30))\n",
    "subnetFeatures = list(range(30, 33))\n",
    "periodicCommnFeatures = [33, 34]\n",
    "\n",
    "genericAggregate = genericFeatures + aggregateFeatures\n",
    "genericSubnet = genericFeatures + subnetFeatures\n",
    "genericPeriodic = genericFeatures + periodicCommnFeatures\n",
    "aggregateSubnet = aggregateFeatures + subnetFeatures\n",
    "aggregatePeriodic = aggregateFeatures + periodicCommnFeatures\n",
    "subnetPeriodic = subnetFeatures + periodicCommnFeatures\n",
    "\n",
    "withoutGenericFeatures = [columnIndex for columnIndex in range(35) if columnIndex not in genericFeatures]\n",
    "withoutAggregateFeatures = [columnIndex for columnIndex in range(35) if columnIndex not in aggregateFeatures]\n",
    "withoutSubnetFeatures = [columnIndex for columnIndex in range(35) if columnIndex not in subnetFeatures]\n",
    "withoutPeriodicCommnFeatures = [columnIndex for columnIndex in range(35) if columnIndex not in periodicCommnFeatures]\n",
    "allFeatures = range(35)\n",
    "\n",
    "configuration = [genericFeatures, aggregateFeatures, subnetFeatures, periodicCommnFeatures, \n",
    "                 genericAggregate, genericSubnet, genericPeriodic, aggregateSubnet, aggregatePeriodic, subnetPeriodic,\n",
    "                 withoutGenericFeatures, withoutAggregateFeatures, withoutSubnetFeatures, withoutPeriodicCommnFeatures,\n",
    "                 allFeatures\n",
    "                ]\n",
    "\n",
    "configToString = { repr(genericFeatures) : \"FeatureSet 1\",\n",
    "                   repr(aggregateFeatures) : \"FeatureSet 2\",\n",
    "                   repr(subnetFeatures) : \"FeatureSet 3\",\n",
    "                   repr(periodicCommnFeatures) : \"FeatureSet 4\",\n",
    "                   repr(genericAggregate) : \"FeatureSet (1,2)\",\n",
    "                   repr(genericSubnet) : \"FeatureSet (1,3)\",\n",
    "                   repr(genericPeriodic) : \"FeatureSet (1,4)\",\n",
    "                   repr(aggregateSubnet) : \"FeatureSet (2,3)\",\n",
    "                   repr(aggregatePeriodic) : \"FeatureSet (2,4)\",\n",
    "                   repr(subnetPeriodic) : \"FeatureSet (3,4)\",\n",
    "                   repr(withoutGenericFeatures) : \"FeatureSet (2,3,4)\",\n",
    "                   repr(withoutAggregateFeatures) : \"FeatureSet (1,3,4)\",\n",
    "                   repr(withoutSubnetFeatures) : \"FeatureSet (1,2,4)\",\n",
    "                   repr(withoutPeriodicCommnFeatures) : \"FeatureSet (1,2,3)\",\n",
    "                   repr(allFeatures) : \"All Features\"\n",
    "                 }\n",
    "\n",
    "def updateColumns(columns):\n",
    "    truncBotX = rescaledBotnetX[:, columns]\n",
    "    truncNormalX = rescaledNormalX[:, columns]\n",
    "    truncX = rescaledX[:, columns]\n",
    "    return truncBotX, truncNormalX, truncX"
   ]
  },
  {
   "cell_type": "code",
   "execution_count": 8,
   "metadata": {
    "collapsed": true
   },
   "outputs": [],
   "source": [
    "def GetNextBotnetSet(rescaledX, Y):\n",
    "    step = 4000\n",
    "    prevStep = 0\n",
    "    while step < rescaledX.shape[0]:\n",
    "        yield rescaledX[prevStep:step, :], Y[prevStep:step]\n",
    "        prevStep = step\n",
    "        step = step + 4000\n",
    "        \n",
    "    return rescaledX[prevStep:, :], Y[prevStep:]"
   ]
  },
  {
   "cell_type": "code",
   "execution_count": 9,
   "metadata": {
    "collapsed": false
   },
   "outputs": [
    {
     "name": "stdout",
     "output_type": "stream",
     "text": [
      "Feature Config: FeatureSet 1, Avg Accuracy: 0.758, Avg Precision Rate: 0.695, Avg Recall Rate: 0.928\n",
      "Feature Config: FeatureSet 2, Avg Accuracy: 0.494, Avg Precision Rate: 0.333, Avg Recall Rate: 0.003\n",
      "Feature Config: FeatureSet 3, Avg Accuracy: 0.696, Avg Precision Rate: 0.668, Avg Recall Rate: 0.886\n",
      "Feature Config: FeatureSet 4, Avg Accuracy: 0.492, Avg Precision Rate: 0.000, Avg Recall Rate: 0.000\n",
      "Feature Config: FeatureSet (1,2), Avg Accuracy: 0.763, Avg Precision Rate: 0.701, Avg Recall Rate: 0.929\n",
      "Feature Config: FeatureSet (1,3), Avg Accuracy: 0.825, Avg Precision Rate: 0.786, Avg Recall Rate: 0.901\n",
      "Feature Config: FeatureSet (1,4), Avg Accuracy: 0.768, Avg Precision Rate: 0.706, Avg Recall Rate: 0.929\n",
      "Feature Config: FeatureSet (2,3), Avg Accuracy: 0.700, Avg Precision Rate: 0.672, Avg Recall Rate: 0.886\n",
      "Feature Config: FeatureSet (2,4), Avg Accuracy: 0.494, Avg Precision Rate: 0.333, Avg Recall Rate: 0.004\n",
      "Feature Config: FeatureSet (3,4), Avg Accuracy: 0.700, Avg Precision Rate: 0.671, Avg Recall Rate: 0.886\n",
      "Feature Config: FeatureSet (2,3,4), Avg Accuracy: 0.704, Avg Precision Rate: 0.674, Avg Recall Rate: 0.886\n",
      "Feature Config: FeatureSet (1,3,4), Avg Accuracy: 0.829, Avg Precision Rate: 0.789, Avg Recall Rate: 0.903\n",
      "Feature Config: FeatureSet (1,2,4), Avg Accuracy: 0.772, Avg Precision Rate: 0.710, Avg Recall Rate: 0.929\n",
      "Feature Config: FeatureSet (1,2,3), Avg Accuracy: 0.828, Avg Precision Rate: 0.790, Avg Recall Rate: 0.902\n",
      "Feature Config: All Features, Avg Accuracy: 0.835, Avg Precision Rate: 0.794, Avg Recall Rate: 0.908\n"
     ]
    }
   ],
   "source": [
    "for config in configuration:\n",
    "    truncBotX, truncNormalX, truncX = updateColumns(config)\n",
    "    scores = []\n",
    "    fpr = []\n",
    "    fnr = []\n",
    "    for botX, botY in GetNextBotnetSet(truncBotX, botnetY):\n",
    "        X = np.concatenate((botX, truncNormalX))\n",
    "        Y = np.concatenate((botY, normalY))\n",
    "        X_train, X_test, Y_train, Y_test = train_test_split(X, Y, test_size=0.2, random_state=42)\n",
    "        model2 = LogisticRegression()\n",
    "        model2 = model2.fit(X_train, Y_train)\n",
    "        predicted = model2.predict(X_test)\n",
    "        scores.append(model2.score(X_test, Y_test))\n",
    "        fpr.append(metrics.precision_score(Y_test, predicted))\n",
    "        fnr.append(metrics.recall_score(Y_test, predicted))\n",
    "    print(\"Feature Config: %s, Avg Accuracy: %.3f, Avg Precision Rate: %.3f, Avg Recall Rate: %.3f\" %\n",
    "            (configToString[repr(config)], np.mean(scores), np.mean(fpr), np.mean(fnr)))"
   ]
  },
  {
   "cell_type": "code",
   "execution_count": 10,
   "metadata": {
    "collapsed": false
   },
   "outputs": [
    {
     "name": "stdout",
     "output_type": "stream",
     "text": [
      "Feature Config: FeatureSet 1, Avg Accuracy: 0.776, Avg Precision Rate: 0.712, Avg Recall Rate: 0.921\n",
      "Feature Config: FeatureSet 2, Avg Accuracy: 0.508, Avg Precision Rate: 0.214, Avg Recall Rate: 0.004\n",
      "Feature Config: FeatureSet 3, Avg Accuracy: 0.685, Avg Precision Rate: 0.597, Avg Recall Rate: 0.885\n",
      "Feature Config: FeatureSet 4, Avg Accuracy: 0.506, Avg Precision Rate: 0.000, Avg Recall Rate: 0.000\n",
      "Feature Config: FeatureSet (1,2), Avg Accuracy: 0.782, Avg Precision Rate: 0.718, Avg Recall Rate: 0.921\n",
      "Feature Config: FeatureSet (1,3), Avg Accuracy: 0.828, Avg Precision Rate: 0.772, Avg Recall Rate: 0.893\n",
      "Feature Config: FeatureSet (1,4), Avg Accuracy: 0.787, Avg Precision Rate: 0.724, Avg Recall Rate: 0.922\n",
      "Feature Config: FeatureSet (2,3), Avg Accuracy: 0.689, Avg Precision Rate: 0.600, Avg Recall Rate: 0.885\n",
      "Feature Config: FeatureSet (2,4), Avg Accuracy: 0.618, Avg Precision Rate: 0.566, Avg Recall Rate: 0.984\n",
      "Feature Config: FeatureSet (3,4), Avg Accuracy: 0.687, Avg Precision Rate: 0.598, Avg Recall Rate: 0.886\n",
      "Feature Config: FeatureSet (2,3,4), Avg Accuracy: 0.690, Avg Precision Rate: 0.601, Avg Recall Rate: 0.886\n",
      "Feature Config: FeatureSet (1,3,4), Avg Accuracy: 0.834, Avg Precision Rate: 0.780, Avg Recall Rate: 0.899\n",
      "Feature Config: FeatureSet (1,2,4), Avg Accuracy: 0.791, Avg Precision Rate: 0.729, Avg Recall Rate: 0.922\n",
      "Feature Config: FeatureSet (1,2,3), Avg Accuracy: 0.832, Avg Precision Rate: 0.779, Avg Recall Rate: 0.896\n",
      "Feature Config: All Features, Avg Accuracy: 0.837, Avg Precision Rate: 0.783, Avg Recall Rate: 0.900\n"
     ]
    }
   ],
   "source": [
    "for config in configuration:\n",
    "    truncBotX, truncNormalX, truncX = updateColumns(config)\n",
    "    scores = []\n",
    "    fpr = []\n",
    "    fnr = []\n",
    "    for botX, botY in GetNextBotnetSet(truncBotX, botnetY):\n",
    "        X = np.concatenate((botX, truncNormalX))\n",
    "        Y = np.concatenate((botY, normalY))\n",
    "        model = LogisticRegression()\n",
    "        scores.append( cross_val_score(model, X, Y, scoring='accuracy', cv=10).mean() )\n",
    "        fpr.append( cross_val_score(model, X, Y, scoring='precision', cv=10).mean() )\n",
    "        fnr.append( cross_val_score(model, X, Y, scoring='recall', cv=10).mean() )\n",
    "    print(\"Feature Config: %s, Avg Accuracy: %.3f, Avg Precision Rate: %.3f, Avg Recall Rate: %.3f\" %\n",
    "            (configToString[repr(config)], np.mean(scores), np.mean(fpr), np.mean(fnr)))"
   ]
  },
  {
   "cell_type": "code",
   "execution_count": null,
   "metadata": {
    "collapsed": true
   },
   "outputs": [],
   "source": []
  }
 ],
 "metadata": {
  "kernelspec": {
   "display_name": "Python 3",
   "language": "python",
   "name": "python3"
  },
  "language_info": {
   "codemirror_mode": {
    "name": "ipython",
    "version": 3
   },
   "file_extension": ".py",
   "mimetype": "text/x-python",
   "name": "python",
   "nbconvert_exporter": "python",
   "pygments_lexer": "ipython3",
   "version": "3.5.2"
  }
 },
 "nbformat": 4,
 "nbformat_minor": 1
}
