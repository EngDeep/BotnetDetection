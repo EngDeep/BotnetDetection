{
 "cells": [
  {
   "cell_type": "code",
   "execution_count": 2,
   "metadata": {
    "collapsed": false
   },
   "outputs": [
    {
     "name": "stdout",
     "output_type": "stream",
     "text": [
      "(52580, 35)\n"
     ]
    }
   ],
   "source": [
    "import numpy as np\n",
    "import scipy\n",
    "from sklearn.preprocessing import MinMaxScaler\n",
    "\n",
    "dataset = np.loadtxt(\"/Users/Keshavamurthy/allfeatures1.txt\", delimiter=\" \");\n",
    "print(dataset.shape)\n",
    "\n",
    "X = dataset[:, :33]\n",
    "Y = dataset[:, 34]\n",
    "botnetDataset = dataset[dataset[:,34]==1, :]\n",
    "normalDataset = dataset[dataset[:,34]==0, :]\n",
    "\n",
    "botnetX = botnetDataset[:,:33]\n",
    "botnetY = botnetDataset[:, 34]\n",
    "\n",
    "normalX = normalDataset[:,:33]\n",
    "normalY = normalDataset[:, 34]\n",
    "\n",
    "scaler = MinMaxScaler(feature_range=(0, 1))\n",
    "rescaledBotnetX = scaler.fit_transform(botnetX)\n",
    "rescaledNormalX = scaler.fit_transform(normalX)\n",
    "rescaledX = scaler.fit_transform(X)\n"
   ]
  },
  {
   "cell_type": "code",
   "execution_count": 3,
   "metadata": {
    "collapsed": false
   },
   "outputs": [
    {
     "data": {
      "text/plain": [
       "0.92651198174210725"
      ]
     },
     "execution_count": 3,
     "metadata": {},
     "output_type": "execute_result"
    }
   ],
   "source": [
    "from sklearn.linear_model import LogisticRegression\n",
    "\n",
    "model = LogisticRegression()\n",
    "model = model.fit(rescaledX, Y)\n",
    "\n",
    "model.score(rescaledX, Y)"
   ]
  },
  {
   "cell_type": "code",
   "execution_count": 14,
   "metadata": {
    "collapsed": true
   },
   "outputs": [],
   "source": [
    "def GetNextBotnetSet(rescaledX, Y):\n",
    "    step = 4000\n",
    "    prevStep = 0\n",
    "    while step < rescaledX.shape[0]:\n",
    "        yield rescaledX[prevStep:step, :], Y[prevStep:step]\n",
    "        prevStep = step\n",
    "        step = step + 4000\n",
    "        \n",
    "    return rescaledX[prevStep:, :], Y[prevStep:]"
   ]
  },
  {
   "cell_type": "code",
   "execution_count": 23,
   "metadata": {
    "collapsed": false
   },
   "outputs": [
    {
     "name": "stdout",
     "output_type": "stream",
     "text": [
      "(48479, 33)   (48479,)\n",
      "0.693399136336\n",
      "0.799506477483\n",
      "0.830351634793\n",
      "0.729179518816\n",
      "0.867982726712\n",
      "0.864898210981\n",
      "0.867982726712\n",
      "0.868599629858\n",
      "0.869216533004\n",
      "0.867982726712\n",
      "0.8130783467\n",
      "0.867365823566\n"
     ]
    }
   ],
   "source": [
    "from sklearn.cross_validation import train_test_split\n",
    "\n",
    "for botX, botY in GetNextBotnetSet(rescaledBotnetX, botnetY):\n",
    "    X = np.concatenate((botX, rescaledNormalX))\n",
    "    Y = np.concatenate((botY, normalY))\n",
    "    X_train, X_test, Y_train, Y_test = train_test_split(X, Y, test_size=0.2, random_state=42)\n",
    "    model2 = LogisticRegression()\n",
    "    model2 = model2.fit(X_train, Y_train)\n",
    "    print(model2.score(X_test, Y_test))"
   ]
  },
  {
   "cell_type": "code",
   "execution_count": 27,
   "metadata": {
    "collapsed": false
   },
   "outputs": [
    {
     "name": "stdout",
     "output_type": "stream",
     "text": [
      "(48479, 33)   (48479,)\n",
      "0.662898722808\n",
      "0.805944041041\n",
      "0.838544092798\n",
      "0.720054954256\n",
      "0.871869205827\n",
      "0.873720753223\n",
      "0.880757942488\n",
      "0.875201778021\n",
      "0.879277069918\n",
      "0.875572605075\n",
      "0.829664946492\n",
      "0.870638443622\n"
     ]
    }
   ],
   "source": [
    "from sklearn.cross_validation import cross_val_score\n",
    "from sklearn import metrics\n",
    "\n",
    "for botX, botY in GetNextBotnetSet(rescaledBotnetX, botnetY):\n",
    "    X = np.concatenate((botX, rescaledNormalX))\n",
    "    Y = np.concatenate((botY, normalY))\n",
    "    scores = cross_val_score(LogisticRegression(), X, Y, scoring='accuracy', cv=10)\n",
    "    print(scores.mean())\n",
    "    predicted = cross_val_predict(LogisticRegression(), X, Y, cv=10)\n",
    "    print(metrics.accuracy_score(Y, predicted))"
   ]
  },
  {
   "cell_type": "code",
   "execution_count": null,
   "metadata": {
    "collapsed": true
   },
   "outputs": [],
   "source": []
  }
 ],
 "metadata": {
  "kernelspec": {
   "display_name": "Python 3",
   "language": "python",
   "name": "python3"
  },
  "language_info": {
   "codemirror_mode": {
    "name": "ipython",
    "version": 3
   },
   "file_extension": ".py",
   "mimetype": "text/x-python",
   "name": "python",
   "nbconvert_exporter": "python",
   "pygments_lexer": "ipython3",
   "version": "3.5.2"
  }
 },
 "nbformat": 4,
 "nbformat_minor": 1
}
