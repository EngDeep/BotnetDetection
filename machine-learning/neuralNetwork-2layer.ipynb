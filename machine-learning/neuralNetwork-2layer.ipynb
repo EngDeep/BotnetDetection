{
 "cells": [
  {
   "cell_type": "code",
   "execution_count": 1,
   "metadata": {
    "collapsed": false
   },
   "outputs": [
    {
     "name": "stdout",
     "output_type": "stream",
     "text": [
      "(52580, 36)\n"
     ]
    }
   ],
   "source": [
    "import numpy as np\n",
    "import scipy\n",
    "from sklearn.preprocessing import MinMaxScaler\n",
    "import warnings\n",
    "warnings.filterwarnings(\"ignore\",category=np.VisibleDeprecationWarning)\n",
    "\n",
    "dataset = np.loadtxt(\"./features.txt\", delimiter=\" \");\n",
    "print(dataset.shape)\n",
    "\n"
   ]
  },
  {
   "cell_type": "code",
   "execution_count": 2,
   "metadata": {
    "collapsed": false
   },
   "outputs": [],
   "source": [
    "import tensorflow as tf\n",
    "\n",
    "num_features = 35\n",
    "batch_size = 256\n",
    "test_size = 2000\n",
    "num_hidden_nodes1 = 4096\n",
    "num_hidden_nodes2 = 2048\n",
    "num_labels = 2\n",
    "\n",
    "graph = tf.Graph()\n",
    "with graph.as_default():\n",
    "    tf_train_dataset = tf.placeholder(tf.float64, shape=(batch_size, num_features))\n",
    "    tf_train_labels = tf.placeholder(tf.float64, shape=(batch_size, num_labels))\n",
    "    tf_valid_dataset = tf.placeholder(tf.float64, shape=(test_size, num_features))\n",
    "    tf_test_dataset = tf.placeholder(tf.float64, shape=(test_size, num_features))\n",
    "    beta_regul = tf.placeholder(tf.float64)\n",
    "    global_step = tf.Variable(0)\n",
    "    \n",
    "    weights1 = tf.Variable(\n",
    "    tf.truncated_normal(\n",
    "        [num_features, num_hidden_nodes1],\n",
    "        stddev=np.sqrt(2.0 / (num_features)), dtype=tf.float64), dtype=tf.float64\n",
    "    )\n",
    "    biases1 = tf.Variable(tf.zeros([num_hidden_nodes1], dtype=tf.float64), dtype=tf.float64)\n",
    "    weights2 = tf.Variable(\n",
    "    tf.truncated_normal([num_hidden_nodes1, num_hidden_nodes2], \n",
    "                        stddev=np.sqrt(2.0 / num_hidden_nodes1), \n",
    "                        dtype=tf.float64),\n",
    "    dtype=tf.float64)\n",
    "    biases2 = tf.Variable(tf.zeros([num_hidden_nodes2], dtype=tf.float64), dtype=tf.float64)\n",
    "    weights3 = tf.Variable(\n",
    "    tf.truncated_normal([num_hidden_nodes2, num_labels], \n",
    "                        stddev=np.sqrt(2.0 / num_hidden_nodes2),\n",
    "                        dtype=tf.float64),\n",
    "    dtype=tf.float64)\n",
    "    biases3 = tf.Variable(tf.zeros([num_labels], dtype=tf.float64), dtype=tf.float64)\n",
    "    \n",
    "    # Training computation.\n",
    "    lay1_train = tf.nn.relu(tf.matmul(tf_train_dataset, weights1) + biases1)\n",
    "    drop1 = tf.nn.dropout(lay1_train, 0.5)\n",
    "    lay2_train = tf.nn.relu(tf.matmul(drop1, weights2) + biases2)\n",
    "    drop2 = tf.nn.dropout(lay2_train, 0.5)\n",
    "    logits = tf.matmul(drop2, weights3) + biases3\n",
    "    loss = tf.reduce_mean(\n",
    "    tf.nn.softmax_cross_entropy_with_logits(logits, tf_train_labels)) + \\\n",
    "      beta_regul * (tf.nn.l2_loss(weights1) + tf.nn.l2_loss(weights2) + tf.nn.l2_loss(weights3))\n",
    "        \n",
    "    # Optimizer.\n",
    "    learning_rate = tf.train.exponential_decay(0.5, global_step, 1000, 0.65, staircase=True)\n",
    "    optimizer = tf.train.GradientDescentOptimizer(learning_rate).minimize(loss, global_step=global_step)\n",
    "  \n",
    "    # Predictions for the training, validation, and test data.\n",
    "    train_prediction = tf.nn.softmax(logits)\n",
    "    lay1_valid = tf.nn.relu(tf.matmul(tf_valid_dataset, weights1) + biases1)\n",
    "    lay2_valid = tf.nn.relu(tf.matmul(lay1_valid, weights2) + biases2)\n",
    "    valid_prediction = tf.nn.softmax(tf.matmul(lay2_valid, weights3) + biases3)\n",
    "    lay1_test = tf.nn.relu(tf.matmul(tf_test_dataset, weights1) + biases1)\n",
    "    lay2_test = tf.nn.relu(tf.matmul(lay1_test, weights2) + biases2)\n",
    "    test_prediction = tf.nn.softmax(tf.matmul(lay2_test, weights3) + biases3)\n",
    "\n",
    "        "
   ]
  },
  {
   "cell_type": "code",
   "execution_count": 3,
   "metadata": {
    "collapsed": true
   },
   "outputs": [],
   "source": [
    "def accuracy(predictions, labels):\n",
    "    return (100.0 * np.sum(np.argmax(predictions, 1) == np.argmax(labels, 1)) / predictions.shape[0])\n"
   ]
  },
  {
   "cell_type": "code",
   "execution_count": 4,
   "metadata": {
    "collapsed": true
   },
   "outputs": [],
   "source": [
    "valid_start_index = 0\n",
    "valid_end_index = 1000\n",
    "test_start_index = 1000\n",
    "test_end_index = 2000\n",
    "\n",
    "class Dataset:\n",
    "    \n",
    "    def __init__(self, dataset):\n",
    "        np.random.shuffle(dataset)\n",
    "\n",
    "        botnetDataset = dataset[dataset[:,35]==1, :]\n",
    "        normalDataset = dataset[dataset[:,35]==0, :]\n",
    "\n",
    "        botnetX = botnetDataset[:,:35]\n",
    "        normalX = normalDataset[:,:35]\n",
    "        \n",
    "        self.botnetY = botnetDataset[:, 35]\n",
    "        self.normalY = normalDataset[:, 35]\n",
    "\n",
    "        scaler = MinMaxScaler(feature_range=(0, 1))\n",
    "        self.rescaledBotnetX = scaler.fit_transform(botnetX)\n",
    "        self.rescaledNormalX = scaler.fit_transform(normalX)\n",
    "        \n",
    "    def getTrainingDataSet(self):\n",
    "        return self.rescaledBotnetX[test_end_index:,:], self.rescaledNormalX[test_end_index:,:], \\\n",
    "    self.botnetY[test_end_index:], self.normalY[test_end_index:]\n",
    "    \n",
    "    def getValidationDataSet(self):\n",
    "        validation_dataset = np.concatenate((self.rescaledBotnetX[valid_start_index:valid_end_index,:], \n",
    "                                         self.rescaledNormalX[valid_start_index:valid_end_index,:]))\n",
    "        valid_labels = np.concatenate((self.botnetY[valid_start_index:valid_end_index], \n",
    "                                       self.normalY[valid_start_index:valid_end_index]))\n",
    "        valid_labels = (np.arange(num_labels) == valid_labels[:,None]).astype(np.float64)\n",
    "        return validation_dataset, valid_labels\n",
    "        \n",
    "    def getTestingDataSet(self):\n",
    "        test_dataset = np.concatenate((self.rescaledBotnetX[test_start_index:test_end_index,:], \n",
    "                                   self.rescaledNormalX[test_start_index:test_end_index,:]))\n",
    "        test_labels = np.concatenate((self.botnetY[test_start_index:test_end_index], \n",
    "                                 self.normalY[test_start_index:test_end_index]))\n",
    "        test_labels = (np.arange(num_labels) == test_labels[:,None]).astype(np.float64)\n",
    "        return test_dataset, test_labels"
   ]
  },
  {
   "cell_type": "code",
   "execution_count": 5,
   "metadata": {
    "collapsed": false
   },
   "outputs": [
    {
     "name": "stdout",
     "output_type": "stream",
     "text": [
      "Test accuracy for regularization param 0.000100 : 86.5%\n",
      "Test accuracy for regularization param 0.000126 : 87.3%\n",
      "Test accuracy for regularization param 0.000158 : 84.8%\n",
      "Test accuracy for regularization param 0.000200 : 86.1%\n",
      "Test accuracy for regularization param 0.000251 : 87.7%\n",
      "Test accuracy for regularization param 0.000316 : 87.3%\n",
      "Test accuracy for regularization param 0.000398 : 56.4%\n",
      "Test accuracy for regularization param 0.000501 : 59.5%\n",
      "Test accuracy for regularization param 0.000631 : 87.1%\n",
      "Test accuracy for regularization param 0.000794 : 87.2%\n",
      "Test accuracy for regularization param 0.001000 : 87.1%\n",
      "Test accuracy for regularization param 0.001259 : 84.6%\n",
      "Test accuracy for regularization param 0.001585 : 84.2%\n",
      "Test accuracy for regularization param 0.001995 : 88.2%\n",
      "Test accuracy for regularization param 0.002512 : 87.5%\n",
      "Test accuracy for regularization param 0.003162 : 86.9%\n",
      "Test accuracy for regularization param 0.003981 : 85.2%\n",
      "Test accuracy for regularization param 0.005012 : 63.6%\n",
      "Test accuracy for regularization param 0.006310 : 56.4%\n",
      "Test accuracy for regularization param 0.007943 : 56.2%\n",
      "[86.549999999999997, 87.349999999999994, 84.799999999999997, 86.099999999999994, 87.700000000000003, 87.299999999999997, 56.399999999999999, 59.450000000000003, 87.099999999999994, 87.150000000000006, 87.099999999999994, 84.599999999999994, 84.200000000000003, 88.150000000000006, 87.5, 86.900000000000006, 85.25, 63.649999999999999, 56.399999999999999, 56.200000000000003]\n"
     ]
    }
   ],
   "source": [
    "regul_val = [pow(10, i) for i in np.arange( -4, -2, 0.1)]\n",
    "accuracy_val = []\n",
    "num_steps = 250\n",
    "class_batch_size = int(batch_size)/2\n",
    "\n",
    "datasetHelper = Dataset(dataset)\n",
    "valid_dataset, valid_labels = datasetHelper.getValidationDataSet()\n",
    "test_dataset, test_labels = datasetHelper.getTestingDataSet()\n",
    "trainBotnetX, trainNormalX, trainBotnetY, trainNormalY = datasetHelper.getTrainingDataSet()\n",
    "\n",
    "for regul in regul_val:\n",
    "    offset = 0\n",
    "    with tf.Session(graph=graph) as session:\n",
    "\n",
    "        tf.global_variables_initializer().run()\n",
    "        for step in range(num_steps):\n",
    "            np.random.shuffle(trainNormalX)\n",
    "            train_batch_data = np.concatenate((trainBotnetX[offset:(offset+class_batch_size),:], \n",
    "                                   trainNormalX[:class_batch_size,:]))\n",
    "            train_batch_labels = np.concatenate((trainBotnetY[:class_batch_size], \n",
    "                                 trainNormalY[:class_batch_size]))\n",
    "            train_batch_labels = (np.arange(num_labels) == train_batch_labels[:,None]).astype(np.float64)\n",
    "            offset = offset + class_batch_size\n",
    "\n",
    "            feed_dict = {tf_train_dataset : train_batch_data, \n",
    "                         tf_train_labels : train_batch_labels,\n",
    "                         tf_valid_dataset : valid_dataset,\n",
    "                         tf_test_dataset : test_dataset,\n",
    "                         beta_regul : regul\n",
    "                        }\n",
    "            \n",
    "            _, l, predictions = session.run(\n",
    "              [optimizer, loss, train_prediction], feed_dict=feed_dict)\n",
    "        \n",
    "        feed_dict = { tf_test_dataset : test_dataset,\n",
    "                      beta_regul : 3e-4 }\n",
    "        print(\"Test accuracy for regularization param %.6f : %.1f%%\" % (regul, accuracy(test_prediction.eval(feed_dict=feed_dict), test_labels)))\n",
    "        accuracy_val.append(accuracy(test_prediction.eval(feed_dict=feed_dict), test_labels))\n",
    "        \n",
    "print(accuracy_val)"
   ]
  },
  {
   "cell_type": "code",
   "execution_count": 39,
   "metadata": {
    "collapsed": false
   },
   "outputs": [
    {
     "data": {
      "image/png": "[encoded data removed]",
      "text/plain": [
       "<matplotlib.figure.Figure at 0x1071f4128>"
      ]
     },
     "metadata": {},
     "output_type": "display_data"
    }
   ],
   "source": [
    "import matplotlib.pyplot as plt\n",
    "%matplotlib inline\n",
    "\n",
    "plt.semilogx(regul_val, accuracy_val)\n",
    "plt.grid(True)\n",
    "plt.title('Test accuracy by regularization (2-layer net)')\n",
    "plt.show()"
   ]
  },
  {
   "cell_type": "code",
   "execution_count": 36,
   "metadata": {
    "collapsed": false
   },
   "outputs": [
    {
     "name": "stdout",
     "output_type": "stream",
     "text": [
      "Test accuracy: 86.5%\n",
      "Test accuracy: 86.7%\n",
      "Test accuracy: 85.0%\n",
      "Test accuracy: 85.9%\n",
      "Test accuracy: 87.1%\n",
      "Test accuracy: 89.0%\n",
      "Test accuracy: 88.8%\n",
      "Test accuracy: 86.7%\n",
      "Test accuracy: 86.8%\n",
      "Test accuracy: 87.3%\n",
      "Average Test Accuracy over 10 folds with regularization param 6e-4: 86.97\n"
     ]
    }
   ],
   "source": [
    "test_accuracy = []\n",
    "for cross_validation in range(10):\n",
    "    \n",
    "    offset = 0\n",
    "    datasetHelper = Dataset(dataset)\n",
    "    valid_dataset, valid_labels = datasetHelper.getValidationDataSet()\n",
    "    test_dataset, test_labels = datasetHelper.getTestingDataSet()\n",
    "    trainBotnetX, trainNormalX, trainBotnetY, trainNormalY = datasetHelper.getTrainingDataSet()\n",
    "    \n",
    "    with tf.Session(graph=graph) as session:\n",
    "\n",
    "        tf.global_variables_initializer().run()\n",
    "        for step in range(num_steps):\n",
    "            np.random.shuffle(trainNormalX)\n",
    "            train_batch_data = np.concatenate((trainBotnetX[offset:(offset+class_batch_size),:], \n",
    "                                   trainNormalX[:class_batch_size,:]))\n",
    "            train_batch_labels = np.concatenate((trainBotnetY[:class_batch_size], \n",
    "                                 trainNormalY[:class_batch_size]))\n",
    "            train_batch_labels = (np.arange(num_labels) == train_batch_labels[:,None]).astype(np.float64)\n",
    "            offset = offset + class_batch_size\n",
    "\n",
    "            feed_dict = {tf_train_dataset : train_batch_data, \n",
    "                         tf_train_labels : train_batch_labels,\n",
    "                         tf_valid_dataset : valid_dataset,\n",
    "                         tf_test_dataset : test_dataset,\n",
    "                         beta_regul : 6e-4\n",
    "                        }\n",
    "            \n",
    "            _, l, predictions = session.run(\n",
    "              [optimizer, loss, train_prediction], feed_dict=feed_dict)\n",
    "        \n",
    "        feed_dict = { tf_test_dataset : test_dataset,\n",
    "                      beta_regul : 3e-4 }\n",
    "        print(\"Test accuracy: %.1f%%\" % accuracy(test_prediction.eval(feed_dict=feed_dict), test_labels))\n",
    "        test_accuracy.append(accuracy(test_prediction.eval(feed_dict=feed_dict), test_labels))\n",
    "        \n",
    "print(\"Average Test Accuracy over 10 folds with regularization param 6e-4: %.2f\" % (np.mean(test_accuracy)))"
   ]
  },
  {
   "cell_type": "code",
   "execution_count": 37,
   "metadata": {
    "collapsed": false
   },
   "outputs": [
    {
     "data": {
      "image/png": "[encoded data removed]",
      "text/plain": [
       "<matplotlib.figure.Figure at 0x106c082e8>"
      ]
     },
     "metadata": {},
     "output_type": "display_data"
    }
   ],
   "source": [
    "import matplotlib.pyplot as plt\n",
    "%matplotlib inline\n",
    "\n",
    "x = np.array(np.arange(0, 10, 1))\n",
    "y = np.array(test_accuracy)\n",
    "plt.plot(x, y)\n",
    "plt.grid(True)\n",
    "plt.title('Test accuracy over 10 folds (2-layer net)')\n",
    "plt.show()"
   ]
  },
  {
   "cell_type": "code",
   "execution_count": null,
   "metadata": {
    "collapsed": true
   },
   "outputs": [],
   "source": []
  }
 ],
 "metadata": {
  "kernelspec": {
   "display_name": "Python 3",
   "language": "python",
   "name": "python3"
  },
  "language_info": {
   "codemirror_mode": {
    "name": "ipython",
    "version": 3
   },
   "file_extension": ".py",
   "mimetype": "text/x-python",
   "name": "python",
   "nbconvert_exporter": "python",
   "pygments_lexer": "ipython3",
   "version": "3.5.2"
  }
 },
 "nbformat": 4,
 "nbformat_minor": 1
}
